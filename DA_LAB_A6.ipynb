{
 "cells": [
  {
   "cell_type": "markdown",
   "id": "a334e24a",
   "metadata": {},
   "source": [
    "# DA5401 A6: Imputation via Regression for Missing Data"
   ]
  },
  {
   "cell_type": "markdown",
   "id": "74d2b35f",
   "metadata": {},
   "source": [
    "Importing the necessary libraries"
   ]
  },
  {
   "cell_type": "code",
   "execution_count": 19,
   "id": "b6d2b357",
   "metadata": {},
   "outputs": [],
   "source": [
    "import numpy as np\n",
    "import pandas as pd\n",
    "import matplotlib.pyplot as plt\n",
    "import seaborn as sns\n",
    "from sklearn.model_selection import train_test_split\n",
    "from sklearn.preprocessing import StandardScaler\n",
    "from sklearn.linear_model import LinearRegression, LogisticRegression\n",
    "from sklearn.neighbors import KNeighborsRegressor\n",
    "from sklearn.tree import DecisionTreeRegressor\n",
    "from sklearn.metrics import classification_report, accuracy_score, precision_score, recall_score, f1_score\n",
    "from sklearn.impute import SimpleImputer\n",
    "import sys"
   ]
  },
  {
   "cell_type": "markdown",
   "id": "e3722ebc",
   "metadata": {},
   "source": [
    "## Part A: Data Preprocessing and Imputation"
   ]
  },
  {
   "cell_type": "markdown",
   "id": "3bde2981",
   "metadata": {},
   "source": [
    "### 1. Load and Prepare Data"
   ]
  },
  {
   "cell_type": "code",
   "execution_count": 20,
   "id": "8a9cb2b3",
   "metadata": {},
   "outputs": [],
   "source": [
    "df = pd.read_csv('UCI_Credit_card.csv')"
   ]
  },
  {
   "cell_type": "markdown",
   "id": "0a8048b6",
   "metadata": {},
   "source": [
    "Display basic dataset information"
   ]
  },
  {
   "cell_type": "code",
   "execution_count": 21,
   "id": "239453bc",
   "metadata": {},
   "outputs": [
    {
     "name": "stdout",
     "output_type": "stream",
     "text": [
      "Dataset Overview:\n",
      "Shape: (30000, 25)\n",
      "\n",
      "First 5 rows:\n",
      "   ID  LIMIT_BAL  SEX  EDUCATION  MARRIAGE  AGE  PAY_0  PAY_2  PAY_3  PAY_4  \\\n",
      "0   1    20000.0    2          2         1   24      2      2     -1     -1   \n",
      "1   2   120000.0    2          2         2   26     -1      2      0      0   \n",
      "2   3    90000.0    2          2         2   34      0      0      0      0   \n",
      "3   4    50000.0    2          2         1   37      0      0      0      0   \n",
      "4   5    50000.0    1          2         1   57     -1      0     -1      0   \n",
      "\n",
      "   ...  BILL_AMT4  BILL_AMT5  BILL_AMT6  PAY_AMT1  PAY_AMT2  PAY_AMT3  \\\n",
      "0  ...        0.0        0.0        0.0       0.0     689.0       0.0   \n",
      "1  ...     3272.0     3455.0     3261.0       0.0    1000.0    1000.0   \n",
      "2  ...    14331.0    14948.0    15549.0    1518.0    1500.0    1000.0   \n",
      "3  ...    28314.0    28959.0    29547.0    2000.0    2019.0    1200.0   \n",
      "4  ...    20940.0    19146.0    19131.0    2000.0   36681.0   10000.0   \n",
      "\n",
      "   PAY_AMT4  PAY_AMT5  PAY_AMT6  default.payment.next.month  \n",
      "0       0.0       0.0       0.0                           1  \n",
      "1    1000.0       0.0    2000.0                           1  \n",
      "2    1000.0    1000.0    5000.0                           0  \n",
      "3    1100.0    1069.0    1000.0                           0  \n",
      "4    9000.0     689.0     679.0                           0  \n",
      "\n",
      "[5 rows x 25 columns]\n"
     ]
    }
   ],
   "source": [
    "print(\"Dataset Overview:\")\n",
    "print(f\"Shape: {df.shape}\")\n",
    "print(\"\\nFirst 5 rows:\")\n",
    "print(df.head())"
   ]
  },
  {
   "cell_type": "code",
   "execution_count": 22,
   "id": "eca6c069",
   "metadata": {},
   "outputs": [
    {
     "name": "stdout",
     "output_type": "stream",
     "text": [
      "\n",
      "Column names:\n",
      "['ID', 'LIMIT_BAL', 'SEX', 'EDUCATION', 'MARRIAGE', 'AGE', 'PAY_0', 'PAY_2', 'PAY_3', 'PAY_4', 'PAY_5', 'PAY_6', 'BILL_AMT1', 'BILL_AMT2', 'BILL_AMT3', 'BILL_AMT4', 'BILL_AMT5', 'BILL_AMT6', 'PAY_AMT1', 'PAY_AMT2', 'PAY_AMT3', 'PAY_AMT4', 'PAY_AMT5', 'PAY_AMT6', 'default.payment.next.month']\n",
      "\n",
      "Missing values before introducing MAR:\n",
      "ID                            0\n",
      "LIMIT_BAL                     0\n",
      "SEX                           0\n",
      "EDUCATION                     0\n",
      "MARRIAGE                      0\n",
      "AGE                           0\n",
      "PAY_0                         0\n",
      "PAY_2                         0\n",
      "PAY_3                         0\n",
      "PAY_4                         0\n",
      "PAY_5                         0\n",
      "PAY_6                         0\n",
      "BILL_AMT1                     0\n",
      "BILL_AMT2                     0\n",
      "BILL_AMT3                     0\n",
      "BILL_AMT4                     0\n",
      "BILL_AMT5                     0\n",
      "BILL_AMT6                     0\n",
      "PAY_AMT1                      0\n",
      "PAY_AMT2                      0\n",
      "PAY_AMT3                      0\n",
      "PAY_AMT4                      0\n",
      "PAY_AMT5                      0\n",
      "PAY_AMT6                      0\n",
      "default.payment.next.month    0\n",
      "dtype: int64\n"
     ]
    }
   ],
   "source": [
    "print(\"\\nColumn names:\")\n",
    "print(df.columns.tolist())\n",
    "print(\"\\nMissing values before introducing MAR:\")\n",
    "print(df.isnull().sum())"
   ]
  },
  {
   "cell_type": "markdown",
   "id": "01873986",
   "metadata": {},
   "source": [
    "Data Exploration"
   ]
  },
  {
   "cell_type": "code",
   "execution_count": 23,
   "id": "c0bf0eb5",
   "metadata": {},
   "outputs": [
    {
     "name": "stdout",
     "output_type": "stream",
     "text": [
      "Dataset dimensions: (30000, 25)\n",
      "Number of features: 24\n",
      "Number of samples: 30000\n"
     ]
    }
   ],
   "source": [
    "print(f\"Dataset dimensions: {df.shape}\")\n",
    "print(f\"Number of features: {df.shape[1] - 1}\")  # excluding target\n",
    "print(f\"Number of samples: {df.shape[0]}\")"
   ]
  },
  {
   "cell_type": "markdown",
   "id": "f794e3b8",
   "metadata": {},
   "source": [
    "Check the target variable distribution (changing name of label column to target_col)"
   ]
  },
  {
   "cell_type": "code",
   "execution_count": 24,
   "id": "0c368ba7",
   "metadata": {},
   "outputs": [
    {
     "name": "stdout",
     "output_type": "stream",
     "text": [
      "\n",
      "Target variable distribution:\n",
      "default.payment.next.month\n",
      "0    23364\n",
      "1     6636\n",
      "Name: count, dtype: int64\n",
      "Default rate: 0.221\n"
     ]
    }
   ],
   "source": [
    "target_col = 'default.payment.next.month'\n",
    "print(f\"\\nTarget variable distribution:\")\n",
    "print(df[target_col].value_counts())\n",
    "print(f\"Default rate: {df[target_col].mean():.3f}\")"
   ]
  },
  {
   "cell_type": "markdown",
   "id": "e10be3ff",
   "metadata": {},
   "source": [
    "Display basic statistics"
   ]
  },
  {
   "cell_type": "code",
   "execution_count": 25,
   "id": "f9310e04",
   "metadata": {},
   "outputs": [
    {
     "name": "stdout",
     "output_type": "stream",
     "text": [
      "                 ID       LIMIT_BAL           SEX     EDUCATION      MARRIAGE  \\\n",
      "count  30000.000000    30000.000000  30000.000000  30000.000000  30000.000000   \n",
      "mean   15000.500000   167484.322667      1.603733      1.853133      1.551867   \n",
      "std     8660.398374   129747.661567      0.489129      0.790349      0.521970   \n",
      "min        1.000000    10000.000000      1.000000      0.000000      0.000000   \n",
      "25%     7500.750000    50000.000000      1.000000      1.000000      1.000000   \n",
      "50%    15000.500000   140000.000000      2.000000      2.000000      2.000000   \n",
      "75%    22500.250000   240000.000000      2.000000      2.000000      2.000000   \n",
      "max    30000.000000  1000000.000000      2.000000      6.000000      3.000000   \n",
      "\n",
      "                AGE         PAY_0         PAY_2         PAY_3         PAY_4  \\\n",
      "count  30000.000000  30000.000000  30000.000000  30000.000000  30000.000000   \n",
      "mean      35.485500     -0.016700     -0.133767     -0.166200     -0.220667   \n",
      "std        9.217904      1.123802      1.197186      1.196868      1.169139   \n",
      "min       21.000000     -2.000000     -2.000000     -2.000000     -2.000000   \n",
      "25%       28.000000     -1.000000     -1.000000     -1.000000     -1.000000   \n",
      "50%       34.000000      0.000000      0.000000      0.000000      0.000000   \n",
      "75%       41.000000      0.000000      0.000000      0.000000      0.000000   \n",
      "max       79.000000      8.000000      8.000000      8.000000      8.000000   \n",
      "\n",
      "       ...      BILL_AMT4      BILL_AMT5      BILL_AMT6       PAY_AMT1  \\\n",
      "count  ...   30000.000000   30000.000000   30000.000000   30000.000000   \n",
      "mean   ...   43262.948967   40311.400967   38871.760400    5663.580500   \n",
      "std    ...   64332.856134   60797.155770   59554.107537   16563.280354   \n",
      "min    ... -170000.000000  -81334.000000 -339603.000000       0.000000   \n",
      "25%    ...    2326.750000    1763.000000    1256.000000    1000.000000   \n",
      "50%    ...   19052.000000   18104.500000   17071.000000    2100.000000   \n",
      "75%    ...   54506.000000   50190.500000   49198.250000    5006.000000   \n",
      "max    ...  891586.000000  927171.000000  961664.000000  873552.000000   \n",
      "\n",
      "           PAY_AMT2      PAY_AMT3       PAY_AMT4       PAY_AMT5  \\\n",
      "count  3.000000e+04   30000.00000   30000.000000   30000.000000   \n",
      "mean   5.921163e+03    5225.68150    4826.076867    4799.387633   \n",
      "std    2.304087e+04   17606.96147   15666.159744   15278.305679   \n",
      "min    0.000000e+00       0.00000       0.000000       0.000000   \n",
      "25%    8.330000e+02     390.00000     296.000000     252.500000   \n",
      "50%    2.009000e+03    1800.00000    1500.000000    1500.000000   \n",
      "75%    5.000000e+03    4505.00000    4013.250000    4031.500000   \n",
      "max    1.684259e+06  896040.00000  621000.000000  426529.000000   \n",
      "\n",
      "            PAY_AMT6  default.payment.next.month  \n",
      "count   30000.000000                30000.000000  \n",
      "mean     5215.502567                    0.221200  \n",
      "std     17777.465775                    0.415062  \n",
      "min         0.000000                    0.000000  \n",
      "25%       117.750000                    0.000000  \n",
      "50%      1500.000000                    0.000000  \n",
      "75%      4000.000000                    0.000000  \n",
      "max    528666.000000                    1.000000  \n",
      "\n",
      "[8 rows x 25 columns]\n"
     ]
    }
   ],
   "source": [
    "print(df.describe())"
   ]
  },
  {
   "cell_type": "markdown",
   "id": "0b2071c1",
   "metadata": {},
   "source": [
    "Clean the column names and prepare data"
   ]
  },
  {
   "cell_type": "markdown",
   "id": "630c9ab0",
   "metadata": {},
   "source": [
    "Clean column names (remove spaces and make lowercase)"
   ]
  },
  {
   "cell_type": "code",
   "execution_count": 26,
   "id": "210c8be8",
   "metadata": {},
   "outputs": [],
   "source": [
    "df.columns = df.columns.str.strip().str.lower().str.replace(' ', '_')"
   ]
  },
  {
   "cell_type": "markdown",
   "id": "aeb0c6d1",
   "metadata": {},
   "source": [
    "Remove ID column"
   ]
  },
  {
   "cell_type": "code",
   "execution_count": 27,
   "id": "38265546",
   "metadata": {},
   "outputs": [],
   "source": [
    "df = df.drop('id', axis=1)"
   ]
  },
  {
   "cell_type": "code",
   "execution_count": 28,
   "id": "5b9f9068",
   "metadata": {},
   "outputs": [
    {
     "name": "stdout",
     "output_type": "stream",
     "text": [
      "['limit_bal', 'sex', 'education', 'marriage', 'age', 'pay_0', 'pay_2', 'pay_3', 'pay_4', 'pay_5', 'pay_6', 'bill_amt1', 'bill_amt2', 'bill_amt3', 'bill_amt4', 'bill_amt5', 'bill_amt6', 'pay_amt1', 'pay_amt2', 'pay_amt3', 'pay_amt4', 'pay_amt5', 'pay_amt6', 'default.payment.next.month']\n"
     ]
    }
   ],
   "source": [
    "print(df.columns.tolist())"
   ]
  },
  {
   "cell_type": "markdown",
   "id": "c7c47bac",
   "metadata": {},
   "source": [
    "#### Artificially introduce Missing At Random (MAR) values"
   ]
  },
  {
   "cell_type": "markdown",
   "id": "a128b6bc",
   "metadata": {},
   "source": [
    "Set seed for reproducibility"
   ]
  },
  {
   "cell_type": "code",
   "execution_count": 29,
   "id": "945637da",
   "metadata": {},
   "outputs": [],
   "source": [
    "np.random.seed(42)\n"
   ]
  },
  {
   "cell_type": "markdown",
   "id": "d4b088be",
   "metadata": {},
   "source": [
    "Select columns to introduce missing values (AGE and BILL_AMT1)"
   ]
  },
  {
   "cell_type": "code",
   "execution_count": 30,
   "id": "8d7d6e14",
   "metadata": {},
   "outputs": [],
   "source": [
    "selected_cols = ['age', 'bill_amt1']"
   ]
  },
  {
   "cell_type": "markdown",
   "id": "987a0007",
   "metadata": {},
   "source": [
    "Introduce exactly 5% missing values in each column completely at random"
   ]
  },
  {
   "cell_type": "code",
   "execution_count": 31,
   "id": "78d91027",
   "metadata": {},
   "outputs": [
    {
     "name": "stdout",
     "output_type": "stream",
     "text": [
      "Introduced 1500 missing values (5.0%) in age\n",
      "Introduced 1500 missing values (5.0%) in bill_amt1\n",
      "\n",
      "Missing values after introducing MAR:\n",
      "age          1500\n",
      "bill_amt1    1500\n",
      "dtype: int64\n",
      "\n",
      "Total missing values: 3000\n"
     ]
    }
   ],
   "source": [
    "for col in selected_cols:\n",
    "    # Get 5% of indices randomly\n",
    "    n_missing = int(0.05 * len(df))\n",
    "    missing_indices = np.random.choice(df.index, size=n_missing, replace=False)\n",
    "    \n",
    "    # Set these indices to NaN\n",
    "    df.loc[missing_indices, col] = np.nan\n",
    "    print(f\"Introduced {n_missing} missing values ({n_missing/len(df)*100:.1f}%) in {col}\")\n",
    "\n",
    "print(\"\\nMissing values after introducing MAR:\")\n",
    "missing_summary = df.isnull().sum()\n",
    "print(missing_summary[missing_summary > 0])\n",
    "print(f\"\\nTotal missing values: {df.isnull().sum().sum()}\")"
   ]
  },
  {
   "cell_type": "markdown",
   "id": "506eb2b7",
   "metadata": {},
   "source": [
    "Visualize the missing data pattern"
   ]
  },
  {
   "cell_type": "code",
   "execution_count": 32,
   "id": "23b81c2a",
   "metadata": {},
   "outputs": [
    {
     "data": {
      "image/png": "[encoded data removed]",
      "text/plain": [
       "<Figure size 1200x500 with 3 Axes>"
      ]
     },
     "metadata": {},
     "output_type": "display_data"
    }
   ],
   "source": [
    "plt.figure(figsize=(12, 5))\n",
    "\n",
    "plt.subplot(1, 2, 1)\n",
    "sns.heatmap(df.isnull(), cbar=True, yticklabels=False, cmap='viridis')\n",
    "plt.title('Missing Data Pattern (Random 5%)')\n",
    "plt.xlabel('Features')\n",
    "\n",
    "plt.subplot(1, 2, 2)\n",
    "missing_counts = df.isnull().sum()\n",
    "missing_counts = missing_counts[missing_counts > 0]\n",
    "plt.bar(missing_counts.index, missing_counts.values, color=['blue', 'orange'])\n",
    "plt.title('Missing Values by Feature')\n",
    "plt.xticks(rotation=45)\n",
    "\n",
    "plt.tight_layout()\n",
    "plt.show()"
   ]
  },
  {
   "cell_type": "markdown",
   "id": "7f82037f",
   "metadata": {},
   "source": [
    "Verify the missingness is completely random (True MAR)"
   ]
  },
  {
   "cell_type": "code",
   "execution_count": 33,
   "id": "0f3cb46d",
   "metadata": {},
   "outputs": [
    {
     "name": "stdout",
     "output_type": "stream",
     "text": [
      "\n",
      "Verifying Missingness is Completely Random...\n",
      "==================================================\n",
      "\n",
      "Analysis for age:\n",
      "Total missing: 1500\n",
      "Correlation with limit_bal: -0.0049\n",
      "Correlation with pay_0: -0.0029\n",
      "\n",
      "Analysis for bill_amt1:\n",
      "Total missing: 1500\n",
      "Correlation with limit_bal: -0.0125\n",
      "Correlation with pay_0: 0.0046\n",
      "\n",
      "Note: Correlations close to 0 indicate missingness is truly random (MAR)\n"
     ]
    }
   ],
   "source": [
    "print(\"\\nVerifying Missingness is Completely Random...\")\n",
    "print(\"=\" * 50)\n",
    "\n",
    "# Check if missingness correlates with other variables (it shouldn't for true MAR)\n",
    "for col in selected_cols:\n",
    "    missing_mask = df[col].isna()\n",
    "    \n",
    "    print(f\"\\nAnalysis for {col}:\")\n",
    "    print(f\"Total missing: {missing_mask.sum()}\")\n",
    "    \n",
    "    # Check correlation with a few other variables\n",
    "    test_cols = ['limit_bal', 'pay_0', 'default_payment_next_month']\n",
    "    for test_col in test_cols:\n",
    "        if test_col in df.columns:\n",
    "            corr = df[test_col].corr(missing_mask.astype(int))\n",
    "            print(f\"Correlation with {test_col}: {corr:.4f}\")\n",
    "\n",
    "print(\"\\nNote: Correlations close to 0 indicate missingness is truly random (MAR)\")"
   ]
  },
  {
   "cell_type": "markdown",
   "id": "99f6efed",
   "metadata": {},
   "source": [
    "### 2. Imputation Strategy 1: Simple Imputation (Baseline)"
   ]
  },
  {
   "cell_type": "code",
   "execution_count": 34,
   "id": "86c96528",
   "metadata": {},
   "outputs": [],
   "source": [
    "df_A = df.copy()"
   ]
  },
  {
   "cell_type": "markdown",
   "id": "382cefde",
   "metadata": {},
   "source": [
    "Perform median imputation"
   ]
  },
  {
   "cell_type": "code",
   "execution_count": 35,
   "id": "50d71c5f",
   "metadata": {},
   "outputs": [
    {
     "name": "stdout",
     "output_type": "stream",
     "text": [
      "Imputed age with median: 34.00\n",
      "Imputed bill_amt1 with median: 22455.50\n",
      "\n",
      "Missing values in Dataset A after median imputation: 0\n"
     ]
    }
   ],
   "source": [
    "missing_cols = df_A.columns[df_A.isnull().any()].tolist()\n",
    "\n",
    "for col in missing_cols:\n",
    "    median_val = df_A[col].median()\n",
    "    df_A[col] = df_A[col].fillna(median_val)\n",
    "    print(f\"Imputed {col} with median: {median_val:.2f}\")\n",
    "\n",
    "print(f\"\\nMissing values in Dataset A after median imputation: {df_A.isnull().sum().sum()}\")"
   ]
  },
  {
   "cell_type": "markdown",
   "id": "4c24d9bc",
   "metadata": {},
   "source": [
    "#### Explanation for using median"
   ]
  },
  {
   "cell_type": "markdown",
   "id": "8d353475",
   "metadata": {},
   "source": [
    "1. **Robustness to Outliers:** The median is less affected by extreme values and outliers \n",
    "   in the data, making it more representative of the central tendency for skewed distributions.\n",
    "\n",
    "2. **Skewed Distributions:** In financial data like credit card bills and payments, \n",
    "   distributions are often right-skewed. The median provides a better central value \n",
    "   in such cases.\n",
    "\n",
    "3. **Preservation of Distribution Shape:** Median imputation doesn't affect the shape \n",
    "   of the distribution as much as mean imputation, which can artificially reduce variance.\n",
    "\n",
    "4. **Categorical Suitability:** For ordinal data or data with natural ordering, \n",
    "   median represents a more meaningful central value."
   ]
  },
  {
   "cell_type": "markdown",
   "id": "f78c3680",
   "metadata": {},
   "source": [
    "### 3. Imputation Strategy 2: Regression Imputation (Linear)"
   ]
  },
  {
   "cell_type": "code",
   "execution_count": 36,
   "id": "42a845b6",
   "metadata": {},
   "outputs": [],
   "source": [
    "df_B = df.copy()"
   ]
  },
  {
   "cell_type": "markdown",
   "id": "784a1401",
   "metadata": {},
   "source": [
    "We'll impute 'bill_amt1' using linear regression"
   ]
  },
  {
   "cell_type": "code",
   "execution_count": 37,
   "id": "a87b164d",
   "metadata": {},
   "outputs": [],
   "source": [
    "target_col='bill_amt1'"
   ]
  },
  {
   "cell_type": "markdown",
   "id": "4864befe",
   "metadata": {},
   "source": [
    "Separate data into missing and non-missing for the target column"
   ]
  },
  {
   "cell_type": "code",
   "execution_count": 38,
   "id": "ccaf85f4",
   "metadata": {},
   "outputs": [],
   "source": [
    "non_missing_mask = df_B[target_col].notna()\n",
    "missing_mask = df_B[target_col].isna()"
   ]
  },
  {
   "cell_type": "markdown",
   "id": "c43afceb",
   "metadata": {},
   "source": [
    "Select features for prediction (using other numerical features, excluding target variable)"
   ]
  },
  {
   "cell_type": "code",
   "execution_count": 39,
   "id": "7af9caf2",
   "metadata": {},
   "outputs": [],
   "source": [
    "numerical_features = df_B.select_dtypes(include=[np.number]).columns.tolist()\n",
    "numerical_features = [col for col in numerical_features if col not in [target_col, 'default.payment.next.month']]"
   ]
  },
  {
   "cell_type": "markdown",
   "id": "ae37cd24",
   "metadata": {},
   "source": [
    "Use top 8 features to avoid overfitting and computational issues"
   ]
  },
  {
   "cell_type": "markdown",
   "id": "25e1a71d",
   "metadata": {},
   "source": [
    "Prepare training data (where target is not missing)"
   ]
  },
  {
   "cell_type": "code",
   "execution_count": 40,
   "id": "39a1f05a",
   "metadata": {},
   "outputs": [],
   "source": [
    "X_train = df_B.loc[non_missing_mask, numerical_features]\n",
    "y_train = df_B.loc[non_missing_mask, target_col]"
   ]
  },
  {
   "cell_type": "markdown",
   "id": "6a79dd59",
   "metadata": {},
   "source": [
    "Prepare data for prediction (where target is missing)"
   ]
  },
  {
   "cell_type": "code",
   "execution_count": 41,
   "id": "fd76a19e",
   "metadata": {},
   "outputs": [
    {
     "name": "stdout",
     "output_type": "stream",
     "text": [
      "Training samples: 28500\n",
      "Missing samples to impute: 1500\n"
     ]
    }
   ],
   "source": [
    "X_pred = df_B.loc[missing_mask, numerical_features]\n",
    "\n",
    "print(f\"Training samples: {len(X_train)}\")\n",
    "print(f\"Missing samples to impute: {len(X_pred)}\")"
   ]
  },
  {
   "cell_type": "markdown",
   "id": "5f9ec946",
   "metadata": {},
   "source": [
    "Handle any remaining missing values in features for prediction"
   ]
  },
  {
   "cell_type": "code",
   "execution_count": 42,
   "id": "032cc05a",
   "metadata": {},
   "outputs": [],
   "source": [
    "imputer = SimpleImputer(strategy='median')\n",
    "X_train_imputed = imputer.fit_transform(X_train)\n",
    "X_pred_imputed = imputer.transform(X_pred)"
   ]
  },
  {
   "cell_type": "markdown",
   "id": "9333fb47",
   "metadata": {},
   "source": [
    "Train linear regression model"
   ]
  },
  {
   "cell_type": "code",
   "execution_count": 43,
   "id": "70470c55",
   "metadata": {},
   "outputs": [
    {
     "data": {
      "text/html": [
       "<style>#sk-container-id-1 {\n",
       "  /* Definition of color scheme common for light and dark mode */\n",
       "  --sklearn-color-text: #000;\n",
       "  --sklearn-color-text-muted: #666;\n",
       "  --sklearn-color-line: gray;\n",
       "  /* Definition of color scheme for unfitted estimators */\n",
       "  --sklearn-color-unfitted-level-0: #fff5e6;\n",
       "  --sklearn-color-unfitted-level-1: #f6e4d2;\n",
       "  --sklearn-color-unfitted-level-2: #ffe0b3;\n",
       "  --sklearn-color-unfitted-level-3: chocolate;\n",
       "  /* Definition of color scheme for fitted estimators */\n",
       "  --sklearn-color-fitted-level-0: #f0f8ff;\n",
       "  --sklearn-color-fitted-level-1: #d4ebff;\n",
       "  --sklearn-color-fitted-level-2: #b3dbfd;\n",
       "  --sklearn-color-fitted-level-3: cornflowerblue;\n",
       "\n",
       "  /* Specific color for light theme */\n",
       "  --sklearn-color-text-on-default-background: var(--sg-text-color, var(--theme-code-foreground, var(--jp-content-font-color1, black)));\n",
       "  --sklearn-color-background: var(--sg-background-color, var(--theme-background, var(--jp-layout-color0, white)));\n",
       "  --sklearn-color-border-box: var(--sg-text-color, var(--theme-code-foreground, var(--jp-content-font-color1, black)));\n",
       "  --sklearn-color-icon: #696969;\n",
       "\n",
       "  @media (prefers-color-scheme: dark) {\n",
       "    /* Redefinition of color scheme for dark theme */\n",
       "    --sklearn-color-text-on-default-background: var(--sg-text-color, var(--theme-code-foreground, var(--jp-content-font-color1, white)));\n",
       "    --sklearn-color-background: var(--sg-background-color, var(--theme-background, var(--jp-layout-color0, #111)));\n",
       "    --sklearn-color-border-box: var(--sg-text-color, var(--theme-code-foreground, var(--jp-content-font-color1, white)));\n",
       "    --sklearn-color-icon: #878787;\n",
       "  }\n",
       "}\n",
       "\n",
       "#sk-container-id-1 {\n",
       "  color: var(--sklearn-color-text);\n",
       "}\n",
       "\n",
       "#sk-container-id-1 pre {\n",
       "  padding: 0;\n",
       "}\n",
       "\n",
       "#sk-container-id-1 input.sk-hidden--visually {\n",
       "  border: 0;\n",
       "  clip: rect(1px 1px 1px 1px);\n",
       "  clip: rect(1px, 1px, 1px, 1px);\n",
       "  height: 1px;\n",
       "  margin: -1px;\n",
       "  overflow: hidden;\n",
       "  padding: 0;\n",
       "  position: absolute;\n",
       "  width: 1px;\n",
       "}\n",
       "\n",
       "#sk-container-id-1 div.sk-dashed-wrapped {\n",
       "  border: 1px dashed var(--sklearn-color-line);\n",
       "  margin: 0 0.4em 0.5em 0.4em;\n",
       "  box-sizing: border-box;\n",
       "  padding-bottom: 0.4em;\n",
       "  background-color: var(--sklearn-color-background);\n",
       "}\n",
       "\n",
       "#sk-container-id-1 div.sk-container {\n",
       "  /* jupyter's `normalize.less` sets `[hidden] { display: none; }`\n",
       "     but bootstrap.min.css set `[hidden] { display: none !important; }`\n",
       "     so we also need the `!important` here to be able to override the\n",
       "     default hidden behavior on the sphinx rendered scikit-learn.org.\n",
       "     See: https://github.com/scikit-learn/scikit-learn/issues/21755 */\n",
       "  display: inline-block !important;\n",
       "  position: relative;\n",
       "}\n",
       "\n",
       "#sk-container-id-1 div.sk-text-repr-fallback {\n",
       "  display: none;\n",
       "}\n",
       "\n",
       "div.sk-parallel-item,\n",
       "div.sk-serial,\n",
       "div.sk-item {\n",
       "  /* draw centered vertical line to link estimators */\n",
       "  background-image: linear-gradient(var(--sklearn-color-text-on-default-background), var(--sklearn-color-text-on-default-background));\n",
       "  background-size: 2px 100%;\n",
       "  background-repeat: no-repeat;\n",
       "  background-position: center center;\n",
       "}\n",
       "\n",
       "/* Parallel-specific style estimator block */\n",
       "\n",
       "#sk-container-id-1 div.sk-parallel-item::after {\n",
       "  content: \"\";\n",
       "  width: 100%;\n",
       "  border-bottom: 2px solid var(--sklearn-color-text-on-default-background);\n",
       "  flex-grow: 1;\n",
       "}\n",
       "\n",
       "#sk-container-id-1 div.sk-parallel {\n",
       "  display: flex;\n",
       "  align-items: stretch;\n",
       "  justify-content: center;\n",
       "  background-color: var(--sklearn-color-background);\n",
       "  position: relative;\n",
       "}\n",
       "\n",
       "#sk-container-id-1 div.sk-parallel-item {\n",
       "  display: flex;\n",
       "  flex-direction: column;\n",
       "}\n",
       "\n",
       "#sk-container-id-1 div.sk-parallel-item:first-child::after {\n",
       "  align-self: flex-end;\n",
       "  width: 50%;\n",
       "}\n",
       "\n",
       "#sk-container-id-1 div.sk-parallel-item:last-child::after {\n",
       "  align-self: flex-start;\n",
       "  width: 50%;\n",
       "}\n",
       "\n",
       "#sk-container-id-1 div.sk-parallel-item:only-child::after {\n",
       "  width: 0;\n",
       "}\n",
       "\n",
       "/* Serial-specific style estimator block */\n",
       "\n",
       "#sk-container-id-1 div.sk-serial {\n",
       "  display: flex;\n",
       "  flex-direction: column;\n",
       "  align-items: center;\n",
       "  background-color: var(--sklearn-color-background);\n",
       "  padding-right: 1em;\n",
       "  padding-left: 1em;\n",
       "}\n",
       "\n",
       "\n",
       "/* Toggleable style: style used for estimator/Pipeline/ColumnTransformer box that is\n",
       "clickable and can be expanded/collapsed.\n",
       "- Pipeline and ColumnTransformer use this feature and define the default style\n",
       "- Estimators will overwrite some part of the style using the `sk-estimator` class\n",
       "*/\n",
       "\n",
       "/* Pipeline and ColumnTransformer style (default) */\n",
       "\n",
       "#sk-container-id-1 div.sk-toggleable {\n",
       "  /* Default theme specific background. It is overwritten whether we have a\n",
       "  specific estimator or a Pipeline/ColumnTransformer */\n",
       "  background-color: var(--sklearn-color-background);\n",
       "}\n",
       "\n",
       "/* Toggleable label */\n",
       "#sk-container-id-1 label.sk-toggleable__label {\n",
       "  cursor: pointer;\n",
       "  display: flex;\n",
       "  width: 100%;\n",
       "  margin-bottom: 0;\n",
       "  padding: 0.5em;\n",
       "  box-sizing: border-box;\n",
       "  text-align: center;\n",
       "  align-items: start;\n",
       "  justify-content: space-between;\n",
       "  gap: 0.5em;\n",
       "}\n",
       "\n",
       "#sk-container-id-1 label.sk-toggleable__label .caption {\n",
       "  font-size: 0.6rem;\n",
       "  font-weight: lighter;\n",
       "  color: var(--sklearn-color-text-muted);\n",
       "}\n",
       "\n",
       "#sk-container-id-1 label.sk-toggleable__label-arrow:before {\n",
       "  /* Arrow on the left of the label */\n",
       "  content: \"▸\";\n",
       "  float: left;\n",
       "  margin-right: 0.25em;\n",
       "  color: var(--sklearn-color-icon);\n",
       "}\n",
       "\n",
       "#sk-container-id-1 label.sk-toggleable__label-arrow:hover:before {\n",
       "  color: var(--sklearn-color-text);\n",
       "}\n",
       "\n",
       "/* Toggleable content - dropdown */\n",
       "\n",
       "#sk-container-id-1 div.sk-toggleable__content {\n",
       "  display: none;\n",
       "  text-align: left;\n",
       "  /* unfitted */\n",
       "  background-color: var(--sklearn-color-unfitted-level-0);\n",
       "}\n",
       "\n",
       "#sk-container-id-1 div.sk-toggleable__content.fitted {\n",
       "  /* fitted */\n",
       "  background-color: var(--sklearn-color-fitted-level-0);\n",
       "}\n",
       "\n",
       "#sk-container-id-1 div.sk-toggleable__content pre {\n",
       "  margin: 0.2em;\n",
       "  border-radius: 0.25em;\n",
       "  color: var(--sklearn-color-text);\n",
       "  /* unfitted */\n",
       "  background-color: var(--sklearn-color-unfitted-level-0);\n",
       "}\n",
       "\n",
       "#sk-container-id-1 div.sk-toggleable__content.fitted pre {\n",
       "  /* unfitted */\n",
       "  background-color: var(--sklearn-color-fitted-level-0);\n",
       "}\n",
       "\n",
       "#sk-container-id-1 input.sk-toggleable__control:checked~div.sk-toggleable__content {\n",
       "  /* Expand drop-down */\n",
       "  display: block;\n",
       "  width: 100%;\n",
       "  overflow: visible;\n",
       "}\n",
       "\n",
       "#sk-container-id-1 input.sk-toggleable__control:checked~label.sk-toggleable__label-arrow:before {\n",
       "  content: \"▾\";\n",
       "}\n",
       "\n",
       "/* Pipeline/ColumnTransformer-specific style */\n",
       "\n",
       "#sk-container-id-1 div.sk-label input.sk-toggleable__control:checked~label.sk-toggleable__label {\n",
       "  color: var(--sklearn-color-text);\n",
       "  background-color: var(--sklearn-color-unfitted-level-2);\n",
       "}\n",
       "\n",
       "#sk-container-id-1 div.sk-label.fitted input.sk-toggleable__control:checked~label.sk-toggleable__label {\n",
       "  background-color: var(--sklearn-color-fitted-level-2);\n",
       "}\n",
       "\n",
       "/* Estimator-specific style */\n",
       "\n",
       "/* Colorize estimator box */\n",
       "#sk-container-id-1 div.sk-estimator input.sk-toggleable__control:checked~label.sk-toggleable__label {\n",
       "  /* unfitted */\n",
       "  background-color: var(--sklearn-color-unfitted-level-2);\n",
       "}\n",
       "\n",
       "#sk-container-id-1 div.sk-estimator.fitted input.sk-toggleable__control:checked~label.sk-toggleable__label {\n",
       "  /* fitted */\n",
       "  background-color: var(--sklearn-color-fitted-level-2);\n",
       "}\n",
       "\n",
       "#sk-container-id-1 div.sk-label label.sk-toggleable__label,\n",
       "#sk-container-id-1 div.sk-label label {\n",
       "  /* The background is the default theme color */\n",
       "  color: var(--sklearn-color-text-on-default-background);\n",
       "}\n",
       "\n",
       "/* On hover, darken the color of the background */\n",
       "#sk-container-id-1 div.sk-label:hover label.sk-toggleable__label {\n",
       "  color: var(--sklearn-color-text);\n",
       "  background-color: var(--sklearn-color-unfitted-level-2);\n",
       "}\n",
       "\n",
       "/* Label box, darken color on hover, fitted */\n",
       "#sk-container-id-1 div.sk-label.fitted:hover label.sk-toggleable__label.fitted {\n",
       "  color: var(--sklearn-color-text);\n",
       "  background-color: var(--sklearn-color-fitted-level-2);\n",
       "}\n",
       "\n",
       "/* Estimator label */\n",
       "\n",
       "#sk-container-id-1 div.sk-label label {\n",
       "  font-family: monospace;\n",
       "  font-weight: bold;\n",
       "  display: inline-block;\n",
       "  line-height: 1.2em;\n",
       "}\n",
       "\n",
       "#sk-container-id-1 div.sk-label-container {\n",
       "  text-align: center;\n",
       "}\n",
       "\n",
       "/* Estimator-specific */\n",
       "#sk-container-id-1 div.sk-estimator {\n",
       "  font-family: monospace;\n",
       "  border: 1px dotted var(--sklearn-color-border-box);\n",
       "  border-radius: 0.25em;\n",
       "  box-sizing: border-box;\n",
       "  margin-bottom: 0.5em;\n",
       "  /* unfitted */\n",
       "  background-color: var(--sklearn-color-unfitted-level-0);\n",
       "}\n",
       "\n",
       "#sk-container-id-1 div.sk-estimator.fitted {\n",
       "  /* fitted */\n",
       "  background-color: var(--sklearn-color-fitted-level-0);\n",
       "}\n",
       "\n",
       "/* on hover */\n",
       "#sk-container-id-1 div.sk-estimator:hover {\n",
       "  /* unfitted */\n",
       "  background-color: var(--sklearn-color-unfitted-level-2);\n",
       "}\n",
       "\n",
       "#sk-container-id-1 div.sk-estimator.fitted:hover {\n",
       "  /* fitted */\n",
       "  background-color: var(--sklearn-color-fitted-level-2);\n",
       "}\n",
       "\n",
       "/* Specification for estimator info (e.g. \"i\" and \"?\") */\n",
       "\n",
       "/* Common style for \"i\" and \"?\" */\n",
       "\n",
       ".sk-estimator-doc-link,\n",
       "a:link.sk-estimator-doc-link,\n",
       "a:visited.sk-estimator-doc-link {\n",
       "  float: right;\n",
       "  font-size: smaller;\n",
       "  line-height: 1em;\n",
       "  font-family: monospace;\n",
       "  background-color: var(--sklearn-color-background);\n",
       "  border-radius: 1em;\n",
       "  height: 1em;\n",
       "  width: 1em;\n",
       "  text-decoration: none !important;\n",
       "  margin-left: 0.5em;\n",
       "  text-align: center;\n",
       "  /* unfitted */\n",
       "  border: var(--sklearn-color-unfitted-level-1) 1pt solid;\n",
       "  color: var(--sklearn-color-unfitted-level-1);\n",
       "}\n",
       "\n",
       ".sk-estimator-doc-link.fitted,\n",
       "a:link.sk-estimator-doc-link.fitted,\n",
       "a:visited.sk-estimator-doc-link.fitted {\n",
       "  /* fitted */\n",
       "  border: var(--sklearn-color-fitted-level-1) 1pt solid;\n",
       "  color: var(--sklearn-color-fitted-level-1);\n",
       "}\n",
       "\n",
       "/* On hover */\n",
       "div.sk-estimator:hover .sk-estimator-doc-link:hover,\n",
       ".sk-estimator-doc-link:hover,\n",
       "div.sk-label-container:hover .sk-estimator-doc-link:hover,\n",
       ".sk-estimator-doc-link:hover {\n",
       "  /* unfitted */\n",
       "  background-color: var(--sklearn-color-unfitted-level-3);\n",
       "  color: var(--sklearn-color-background);\n",
       "  text-decoration: none;\n",
       "}\n",
       "\n",
       "div.sk-estimator.fitted:hover .sk-estimator-doc-link.fitted:hover,\n",
       ".sk-estimator-doc-link.fitted:hover,\n",
       "div.sk-label-container:hover .sk-estimator-doc-link.fitted:hover,\n",
       ".sk-estimator-doc-link.fitted:hover {\n",
       "  /* fitted */\n",
       "  background-color: var(--sklearn-color-fitted-level-3);\n",
       "  color: var(--sklearn-color-background);\n",
       "  text-decoration: none;\n",
       "}\n",
       "\n",
       "/* Span, style for the box shown on hovering the info icon */\n",
       ".sk-estimator-doc-link span {\n",
       "  display: none;\n",
       "  z-index: 9999;\n",
       "  position: relative;\n",
       "  font-weight: normal;\n",
       "  right: .2ex;\n",
       "  padding: .5ex;\n",
       "  margin: .5ex;\n",
       "  width: min-content;\n",
       "  min-width: 20ex;\n",
       "  max-width: 50ex;\n",
       "  color: var(--sklearn-color-text);\n",
       "  box-shadow: 2pt 2pt 4pt #999;\n",
       "  /* unfitted */\n",
       "  background: var(--sklearn-color-unfitted-level-0);\n",
       "  border: .5pt solid var(--sklearn-color-unfitted-level-3);\n",
       "}\n",
       "\n",
       ".sk-estimator-doc-link.fitted span {\n",
       "  /* fitted */\n",
       "  background: var(--sklearn-color-fitted-level-0);\n",
       "  border: var(--sklearn-color-fitted-level-3);\n",
       "}\n",
       "\n",
       ".sk-estimator-doc-link:hover span {\n",
       "  display: block;\n",
       "}\n",
       "\n",
       "/* \"?\"-specific style due to the `<a>` HTML tag */\n",
       "\n",
       "#sk-container-id-1 a.estimator_doc_link {\n",
       "  float: right;\n",
       "  font-size: 1rem;\n",
       "  line-height: 1em;\n",
       "  font-family: monospace;\n",
       "  background-color: var(--sklearn-color-background);\n",
       "  border-radius: 1rem;\n",
       "  height: 1rem;\n",
       "  width: 1rem;\n",
       "  text-decoration: none;\n",
       "  /* unfitted */\n",
       "  color: var(--sklearn-color-unfitted-level-1);\n",
       "  border: var(--sklearn-color-unfitted-level-1) 1pt solid;\n",
       "}\n",
       "\n",
       "#sk-container-id-1 a.estimator_doc_link.fitted {\n",
       "  /* fitted */\n",
       "  border: var(--sklearn-color-fitted-level-1) 1pt solid;\n",
       "  color: var(--sklearn-color-fitted-level-1);\n",
       "}\n",
       "\n",
       "/* On hover */\n",
       "#sk-container-id-1 a.estimator_doc_link:hover {\n",
       "  /* unfitted */\n",
       "  background-color: var(--sklearn-color-unfitted-level-3);\n",
       "  color: var(--sklearn-color-background);\n",
       "  text-decoration: none;\n",
       "}\n",
       "\n",
       "#sk-container-id-1 a.estimator_doc_link.fitted:hover {\n",
       "  /* fitted */\n",
       "  background-color: var(--sklearn-color-fitted-level-3);\n",
       "}\n",
       "\n",
       ".estimator-table summary {\n",
       "    padding: .5rem;\n",
       "    font-family: monospace;\n",
       "    cursor: pointer;\n",
       "}\n",
       "\n",
       ".estimator-table details[open] {\n",
       "    padding-left: 0.1rem;\n",
       "    padding-right: 0.1rem;\n",
       "    padding-bottom: 0.3rem;\n",
       "}\n",
       "\n",
       ".estimator-table .parameters-table {\n",
       "    margin-left: auto !important;\n",
       "    margin-right: auto !important;\n",
       "}\n",
       "\n",
       ".estimator-table .parameters-table tr:nth-child(odd) {\n",
       "    background-color: #fff;\n",
       "}\n",
       "\n",
       ".estimator-table .parameters-table tr:nth-child(even) {\n",
       "    background-color: #f6f6f6;\n",
       "}\n",
       "\n",
       ".estimator-table .parameters-table tr:hover {\n",
       "    background-color: #e0e0e0;\n",
       "}\n",
       "\n",
       ".estimator-table table td {\n",
       "    border: 1px solid rgba(106, 105, 104, 0.232);\n",
       "}\n",
       "\n",
       ".user-set td {\n",
       "    color:rgb(255, 94, 0);\n",
       "    text-align: left;\n",
       "}\n",
       "\n",
       ".user-set td.value pre {\n",
       "    color:rgb(255, 94, 0) !important;\n",
       "    background-color: transparent !important;\n",
       "}\n",
       "\n",
       ".default td {\n",
       "    color: black;\n",
       "    text-align: left;\n",
       "}\n",
       "\n",
       ".user-set td i,\n",
       ".default td i {\n",
       "    color: black;\n",
       "}\n",
       "\n",
       ".copy-paste-icon {\n",
       "    background-image: url(data:image/svg+xml;base64,PHN2ZyB4bWxucz0iaHR0cDovL3d3dy53My5vcmcvMjAwMC9zdmciIHZpZXdCb3g9IjAgMCA0NDggNTEyIj48IS0tIUZvbnQgQXdlc29tZSBGcmVlIDYuNy4yIGJ5IEBmb250YXdlc29tZSAtIGh0dHBzOi8vZm9udGF3ZXNvbWUuY29tIExpY2Vuc2UgLSBodHRwczovL2ZvbnRhd2Vzb21lLmNvbS9saWNlbnNlL2ZyZWUgQ29weXJpZ2h0IDIwMjUgRm9udGljb25zLCBJbmMuLS0+PHBhdGggZD0iTTIwOCAwTDMzMi4xIDBjMTIuNyAwIDI0LjkgNS4xIDMzLjkgMTQuMWw2Ny45IDY3LjljOSA5IDE0LjEgMjEuMiAxNC4xIDMzLjlMNDQ4IDMzNmMwIDI2LjUtMjEuNSA0OC00OCA0OGwtMTkyIDBjLTI2LjUgMC00OC0yMS41LTQ4LTQ4bDAtMjg4YzAtMjYuNSAyMS41LTQ4IDQ4LTQ4ek00OCAxMjhsODAgMCAwIDY0LTY0IDAgMCAyNTYgMTkyIDAgMC0zMiA2NCAwIDAgNDhjMCAyNi41LTIxLjUgNDgtNDggNDhMNDggNTEyYy0yNi41IDAtNDgtMjEuNS00OC00OEwwIDE3NmMwLTI2LjUgMjEuNS00OCA0OC00OHoiLz48L3N2Zz4=);\n",
       "    background-repeat: no-repeat;\n",
       "    background-size: 14px 14px;\n",
       "    background-position: 0;\n",
       "    display: inline-block;\n",
       "    width: 14px;\n",
       "    height: 14px;\n",
       "    cursor: pointer;\n",
       "}\n",
       "</style><body><div id=\"sk-container-id-1\" class=\"sk-top-container\"><div class=\"sk-text-repr-fallback\"><pre>LinearRegression()</pre><b>In a Jupyter environment, please rerun this cell to show the HTML representation or trust the notebook. <br />On GitHub, the HTML representation is unable to render, please try loading this page with nbviewer.org.</b></div><div class=\"sk-container\" hidden><div class=\"sk-item\"><div class=\"sk-estimator fitted sk-toggleable\"><input class=\"sk-toggleable__control sk-hidden--visually\" id=\"sk-estimator-id-1\" type=\"checkbox\" checked><label for=\"sk-estimator-id-1\" class=\"sk-toggleable__label fitted sk-toggleable__label-arrow\"><div><div>LinearRegression</div></div><div><a class=\"sk-estimator-doc-link fitted\" rel=\"noreferrer\" target=\"_blank\" href=\"https://scikit-learn.org/1.7/modules/generated/sklearn.linear_model.LinearRegression.html\">?<span>Documentation for LinearRegression</span></a><span class=\"sk-estimator-doc-link fitted\">i<span>Fitted</span></span></div></label><div class=\"sk-toggleable__content fitted\" data-param-prefix=\"\">\n",
       "        <div class=\"estimator-table\">\n",
       "            <details>\n",
       "                <summary>Parameters</summary>\n",
       "                <table class=\"parameters-table\">\n",
       "                  <tbody>\n",
       "                    \n",
       "        <tr class=\"default\">\n",
       "            <td><i class=\"copy-paste-icon\"\n",
       "                 onclick=\"copyToClipboard('fit_intercept',\n",
       "                          this.parentElement.nextElementSibling)\"\n",
       "            ></i></td>\n",
       "            <td class=\"param\">fit_intercept&nbsp;</td>\n",
       "            <td class=\"value\">True</td>\n",
       "        </tr>\n",
       "    \n",
       "\n",
       "        <tr class=\"default\">\n",
       "            <td><i class=\"copy-paste-icon\"\n",
       "                 onclick=\"copyToClipboard('copy_X',\n",
       "                          this.parentElement.nextElementSibling)\"\n",
       "            ></i></td>\n",
       "            <td class=\"param\">copy_X&nbsp;</td>\n",
       "            <td class=\"value\">True</td>\n",
       "        </tr>\n",
       "    \n",
       "\n",
       "        <tr class=\"default\">\n",
       "            <td><i class=\"copy-paste-icon\"\n",
       "                 onclick=\"copyToClipboard('tol',\n",
       "                          this.parentElement.nextElementSibling)\"\n",
       "            ></i></td>\n",
       "            <td class=\"param\">tol&nbsp;</td>\n",
       "            <td class=\"value\">1e-06</td>\n",
       "        </tr>\n",
       "    \n",
       "\n",
       "        <tr class=\"default\">\n",
       "            <td><i class=\"copy-paste-icon\"\n",
       "                 onclick=\"copyToClipboard('n_jobs',\n",
       "                          this.parentElement.nextElementSibling)\"\n",
       "            ></i></td>\n",
       "            <td class=\"param\">n_jobs&nbsp;</td>\n",
       "            <td class=\"value\">None</td>\n",
       "        </tr>\n",
       "    \n",
       "\n",
       "        <tr class=\"default\">\n",
       "            <td><i class=\"copy-paste-icon\"\n",
       "                 onclick=\"copyToClipboard('positive',\n",
       "                          this.parentElement.nextElementSibling)\"\n",
       "            ></i></td>\n",
       "            <td class=\"param\">positive&nbsp;</td>\n",
       "            <td class=\"value\">False</td>\n",
       "        </tr>\n",
       "    \n",
       "                  </tbody>\n",
       "                </table>\n",
       "            </details>\n",
       "        </div>\n",
       "    </div></div></div></div></div><script>function copyToClipboard(text, element) {\n",
       "    // Get the parameter prefix from the closest toggleable content\n",
       "    const toggleableContent = element.closest('.sk-toggleable__content');\n",
       "    const paramPrefix = toggleableContent ? toggleableContent.dataset.paramPrefix : '';\n",
       "    const fullParamName = paramPrefix ? `${paramPrefix}${text}` : text;\n",
       "\n",
       "    const originalStyle = element.style;\n",
       "    const computedStyle = window.getComputedStyle(element);\n",
       "    const originalWidth = computedStyle.width;\n",
       "    const originalHTML = element.innerHTML.replace('Copied!', '');\n",
       "\n",
       "    navigator.clipboard.writeText(fullParamName)\n",
       "        .then(() => {\n",
       "            element.style.width = originalWidth;\n",
       "            element.style.color = 'green';\n",
       "            element.innerHTML = \"Copied!\";\n",
       "\n",
       "            setTimeout(() => {\n",
       "                element.innerHTML = originalHTML;\n",
       "                element.style = originalStyle;\n",
       "            }, 2000);\n",
       "        })\n",
       "        .catch(err => {\n",
       "            console.error('Failed to copy:', err);\n",
       "            element.style.color = 'red';\n",
       "            element.innerHTML = \"Failed!\";\n",
       "            setTimeout(() => {\n",
       "                element.innerHTML = originalHTML;\n",
       "                element.style = originalStyle;\n",
       "            }, 2000);\n",
       "        });\n",
       "    return false;\n",
       "}\n",
       "\n",
       "document.querySelectorAll('.fa-regular.fa-copy').forEach(function(element) {\n",
       "    const toggleableContent = element.closest('.sk-toggleable__content');\n",
       "    const paramPrefix = toggleableContent ? toggleableContent.dataset.paramPrefix : '';\n",
       "    const paramName = element.parentElement.nextElementSibling.textContent.trim();\n",
       "    const fullParamName = paramPrefix ? `${paramPrefix}${paramName}` : paramName;\n",
       "\n",
       "    element.setAttribute('title', fullParamName);\n",
       "});\n",
       "</script></body>"
      ],
      "text/plain": [
       "LinearRegression()"
      ]
     },
     "execution_count": 43,
     "metadata": {},
     "output_type": "execute_result"
    }
   ],
   "source": [
    "lr_model = LinearRegression()\n",
    "lr_model.fit(X_train_imputed, y_train)"
   ]
  },
  {
   "cell_type": "markdown",
   "id": "2b942afb",
   "metadata": {},
   "source": [
    "Predict missing values"
   ]
  },
  {
   "cell_type": "code",
   "execution_count": 44,
   "id": "56267a76",
   "metadata": {},
   "outputs": [],
   "source": [
    "predicted_values = lr_model.predict(X_pred_imputed)"
   ]
  },
  {
   "cell_type": "markdown",
   "id": "09f40177",
   "metadata": {},
   "source": [
    "Fill missing values"
   ]
  },
  {
   "cell_type": "code",
   "execution_count": 45,
   "id": "488d2e53",
   "metadata": {},
   "outputs": [],
   "source": [
    "# Replace negative predictions with 0\n",
    "predicted_values = np.where(predicted_values < 0, 0, predicted_values)\n",
    "df_B.loc[missing_mask, target_col] = predicted_values"
   ]
  },
  {
   "cell_type": "code",
   "execution_count": 46,
   "id": "f51949c8",
   "metadata": {},
   "outputs": [
    {
     "name": "stdout",
     "output_type": "stream",
     "text": [
      "Linear Regression R² score on training data: 0.9311\n",
      "Range of predicted bill_amt1: 0.0 - 499988.0\n",
      "\n",
      "Missing values in Dataset B after regression imputation: 0\n"
     ]
    }
   ],
   "source": [
    "print(f\"Linear Regression R² score on training data: {lr_model.score(X_train_imputed, y_train):.4f}\")\n",
    "print(f\"Range of predicted bill_amt1: {predicted_values.min():.1f} - {predicted_values.max():.1f}\")\n",
    "\n",
    "# Also impute age with median for consistency and also, ensure that the logistic regression model is trained without any errors.\n",
    "df_B['age'] = df_B['age'].fillna(df_B['age'].median())\n",
    "\n",
    "print(f\"\\nMissing values in Dataset B after regression imputation: {df_B.isnull().sum().sum()}\")"
   ]
  },
  {
   "cell_type": "markdown",
   "id": "857c4493",
   "metadata": {},
   "source": [
    "#### Explanation of MAR assumption for regression imputation"
   ]
  },
  {
   "cell_type": "markdown",
   "id": "2fcadeb2",
   "metadata": {},
   "source": [
    "The MAR assumption means that the probability of a value being missing depends \n",
    "only on the observed data, not on the missing data itself. For regression imputation:\n",
    "\n",
    "1. We assume that the relationship between the target variable (AGE) and \n",
    "   predictors remains the same in both missing and non-missing cases.\n",
    "\n",
    "2. The regression model trained on complete cases can generalize to predict \n",
    "   missing values accurately.\n",
    "\n",
    "3. This approach preserves the covariance structure of the data better than \n",
    "   simple imputation methods.\n",
    "\n",
    "4. However, it may underestimate variance because it doesn't account for \n",
    "   uncertainty in the predictions.\n"
   ]
  },
  {
   "cell_type": "markdown",
   "id": "1924727c",
   "metadata": {},
   "source": [
    "### 4. Imputation Strategy 3: Regression Imputation (Non-Linear)"
   ]
  },
  {
   "cell_type": "code",
   "execution_count": 47,
   "id": "795b5e4c",
   "metadata": {},
   "outputs": [],
   "source": [
    "df_C = df.copy()"
   ]
  },
  {
   "cell_type": "markdown",
   "id": "076097e7",
   "metadata": {},
   "source": [
    "We'll impute 'bill_amt1' using KNN Regression (non-linear)"
   ]
  },
  {
   "cell_type": "markdown",
   "id": "ea5db785",
   "metadata": {},
   "source": [
    "Separate data into missing and non-missing for the target column"
   ]
  },
  {
   "cell_type": "code",
   "execution_count": 48,
   "id": "52f42bc8",
   "metadata": {},
   "outputs": [],
   "source": [
    "non_missing_mask = df_C[target_col].notna()\n",
    "missing_mask = df_C[target_col].isna()"
   ]
  },
  {
   "cell_type": "markdown",
   "id": "5bb7d93e",
   "metadata": {},
   "source": [
    "Prepare training data\n"
   ]
  },
  {
   "cell_type": "code",
   "execution_count": 49,
   "id": "357afac2",
   "metadata": {},
   "outputs": [],
   "source": [
    "X_train = df_C.loc[non_missing_mask, numerical_features] #Use the same features as in linear regression for fair comparison\n",
    "y_train = df_C.loc[non_missing_mask, target_col]"
   ]
  },
  {
   "cell_type": "markdown",
   "id": "7f3ece4d",
   "metadata": {},
   "source": [
    "Prepare data for prediction"
   ]
  },
  {
   "cell_type": "code",
   "execution_count": 50,
   "id": "cb7c6efe",
   "metadata": {},
   "outputs": [
    {
     "name": "stdout",
     "output_type": "stream",
     "text": [
      "Training samples: 28500\n",
      "Missing samples to impute: 1500\n"
     ]
    }
   ],
   "source": [
    "X_pred = df_C.loc[missing_mask, numerical_features]\n",
    "\n",
    "print(f\"Training samples: {len(X_train)}\")\n",
    "print(f\"Missing samples to impute: {len(X_pred)}\")"
   ]
  },
  {
   "cell_type": "markdown",
   "id": "b3ec5455",
   "metadata": {},
   "source": [
    "Handle any remaining missing values in features"
   ]
  },
  {
   "cell_type": "code",
   "execution_count": 51,
   "id": "b6a69ecf",
   "metadata": {},
   "outputs": [],
   "source": [
    "imputer = SimpleImputer(strategy='median')\n",
    "X_train_imputed = imputer.fit_transform(X_train)\n",
    "X_pred_imputed = imputer.transform(X_pred)"
   ]
  },
  {
   "cell_type": "markdown",
   "id": "e7d693f5",
   "metadata": {},
   "source": [
    "Scale the features for KNN"
   ]
  },
  {
   "cell_type": "code",
   "execution_count": 52,
   "id": "e49b6957",
   "metadata": {},
   "outputs": [],
   "source": [
    "scaler = StandardScaler()\n",
    "X_train_scaled = scaler.fit_transform(X_train_imputed)\n",
    "X_pred_scaled = scaler.transform(X_pred_imputed)"
   ]
  },
  {
   "cell_type": "markdown",
   "id": "d21ad2be",
   "metadata": {},
   "source": [
    "Train KNN regression model"
   ]
  },
  {
   "cell_type": "code",
   "execution_count": 53,
   "id": "04750225",
   "metadata": {},
   "outputs": [
    {
     "data": {
      "text/html": [
       "<style>#sk-container-id-2 {\n",
       "  /* Definition of color scheme common for light and dark mode */\n",
       "  --sklearn-color-text: #000;\n",
       "  --sklearn-color-text-muted: #666;\n",
       "  --sklearn-color-line: gray;\n",
       "  /* Definition of color scheme for unfitted estimators */\n",
       "  --sklearn-color-unfitted-level-0: #fff5e6;\n",
       "  --sklearn-color-unfitted-level-1: #f6e4d2;\n",
       "  --sklearn-color-unfitted-level-2: #ffe0b3;\n",
       "  --sklearn-color-unfitted-level-3: chocolate;\n",
       "  /* Definition of color scheme for fitted estimators */\n",
       "  --sklearn-color-fitted-level-0: #f0f8ff;\n",
       "  --sklearn-color-fitted-level-1: #d4ebff;\n",
       "  --sklearn-color-fitted-level-2: #b3dbfd;\n",
       "  --sklearn-color-fitted-level-3: cornflowerblue;\n",
       "\n",
       "  /* Specific color for light theme */\n",
       "  --sklearn-color-text-on-default-background: var(--sg-text-color, var(--theme-code-foreground, var(--jp-content-font-color1, black)));\n",
       "  --sklearn-color-background: var(--sg-background-color, var(--theme-background, var(--jp-layout-color0, white)));\n",
       "  --sklearn-color-border-box: var(--sg-text-color, var(--theme-code-foreground, var(--jp-content-font-color1, black)));\n",
       "  --sklearn-color-icon: #696969;\n",
       "\n",
       "  @media (prefers-color-scheme: dark) {\n",
       "    /* Redefinition of color scheme for dark theme */\n",
       "    --sklearn-color-text-on-default-background: var(--sg-text-color, var(--theme-code-foreground, var(--jp-content-font-color1, white)));\n",
       "    --sklearn-color-background: var(--sg-background-color, var(--theme-background, var(--jp-layout-color0, #111)));\n",
       "    --sklearn-color-border-box: var(--sg-text-color, var(--theme-code-foreground, var(--jp-content-font-color1, white)));\n",
       "    --sklearn-color-icon: #878787;\n",
       "  }\n",
       "}\n",
       "\n",
       "#sk-container-id-2 {\n",
       "  color: var(--sklearn-color-text);\n",
       "}\n",
       "\n",
       "#sk-container-id-2 pre {\n",
       "  padding: 0;\n",
       "}\n",
       "\n",
       "#sk-container-id-2 input.sk-hidden--visually {\n",
       "  border: 0;\n",
       "  clip: rect(1px 1px 1px 1px);\n",
       "  clip: rect(1px, 1px, 1px, 1px);\n",
       "  height: 1px;\n",
       "  margin: -1px;\n",
       "  overflow: hidden;\n",
       "  padding: 0;\n",
       "  position: absolute;\n",
       "  width: 1px;\n",
       "}\n",
       "\n",
       "#sk-container-id-2 div.sk-dashed-wrapped {\n",
       "  border: 1px dashed var(--sklearn-color-line);\n",
       "  margin: 0 0.4em 0.5em 0.4em;\n",
       "  box-sizing: border-box;\n",
       "  padding-bottom: 0.4em;\n",
       "  background-color: var(--sklearn-color-background);\n",
       "}\n",
       "\n",
       "#sk-container-id-2 div.sk-container {\n",
       "  /* jupyter's `normalize.less` sets `[hidden] { display: none; }`\n",
       "     but bootstrap.min.css set `[hidden] { display: none !important; }`\n",
       "     so we also need the `!important` here to be able to override the\n",
       "     default hidden behavior on the sphinx rendered scikit-learn.org.\n",
       "     See: https://github.com/scikit-learn/scikit-learn/issues/21755 */\n",
       "  display: inline-block !important;\n",
       "  position: relative;\n",
       "}\n",
       "\n",
       "#sk-container-id-2 div.sk-text-repr-fallback {\n",
       "  display: none;\n",
       "}\n",
       "\n",
       "div.sk-parallel-item,\n",
       "div.sk-serial,\n",
       "div.sk-item {\n",
       "  /* draw centered vertical line to link estimators */\n",
       "  background-image: linear-gradient(var(--sklearn-color-text-on-default-background), var(--sklearn-color-text-on-default-background));\n",
       "  background-size: 2px 100%;\n",
       "  background-repeat: no-repeat;\n",
       "  background-position: center center;\n",
       "}\n",
       "\n",
       "/* Parallel-specific style estimator block */\n",
       "\n",
       "#sk-container-id-2 div.sk-parallel-item::after {\n",
       "  content: \"\";\n",
       "  width: 100%;\n",
       "  border-bottom: 2px solid var(--sklearn-color-text-on-default-background);\n",
       "  flex-grow: 1;\n",
       "}\n",
       "\n",
       "#sk-container-id-2 div.sk-parallel {\n",
       "  display: flex;\n",
       "  align-items: stretch;\n",
       "  justify-content: center;\n",
       "  background-color: var(--sklearn-color-background);\n",
       "  position: relative;\n",
       "}\n",
       "\n",
       "#sk-container-id-2 div.sk-parallel-item {\n",
       "  display: flex;\n",
       "  flex-direction: column;\n",
       "}\n",
       "\n",
       "#sk-container-id-2 div.sk-parallel-item:first-child::after {\n",
       "  align-self: flex-end;\n",
       "  width: 50%;\n",
       "}\n",
       "\n",
       "#sk-container-id-2 div.sk-parallel-item:last-child::after {\n",
       "  align-self: flex-start;\n",
       "  width: 50%;\n",
       "}\n",
       "\n",
       "#sk-container-id-2 div.sk-parallel-item:only-child::after {\n",
       "  width: 0;\n",
       "}\n",
       "\n",
       "/* Serial-specific style estimator block */\n",
       "\n",
       "#sk-container-id-2 div.sk-serial {\n",
       "  display: flex;\n",
       "  flex-direction: column;\n",
       "  align-items: center;\n",
       "  background-color: var(--sklearn-color-background);\n",
       "  padding-right: 1em;\n",
       "  padding-left: 1em;\n",
       "}\n",
       "\n",
       "\n",
       "/* Toggleable style: style used for estimator/Pipeline/ColumnTransformer box that is\n",
       "clickable and can be expanded/collapsed.\n",
       "- Pipeline and ColumnTransformer use this feature and define the default style\n",
       "- Estimators will overwrite some part of the style using the `sk-estimator` class\n",
       "*/\n",
       "\n",
       "/* Pipeline and ColumnTransformer style (default) */\n",
       "\n",
       "#sk-container-id-2 div.sk-toggleable {\n",
       "  /* Default theme specific background. It is overwritten whether we have a\n",
       "  specific estimator or a Pipeline/ColumnTransformer */\n",
       "  background-color: var(--sklearn-color-background);\n",
       "}\n",
       "\n",
       "/* Toggleable label */\n",
       "#sk-container-id-2 label.sk-toggleable__label {\n",
       "  cursor: pointer;\n",
       "  display: flex;\n",
       "  width: 100%;\n",
       "  margin-bottom: 0;\n",
       "  padding: 0.5em;\n",
       "  box-sizing: border-box;\n",
       "  text-align: center;\n",
       "  align-items: start;\n",
       "  justify-content: space-between;\n",
       "  gap: 0.5em;\n",
       "}\n",
       "\n",
       "#sk-container-id-2 label.sk-toggleable__label .caption {\n",
       "  font-size: 0.6rem;\n",
       "  font-weight: lighter;\n",
       "  color: var(--sklearn-color-text-muted);\n",
       "}\n",
       "\n",
       "#sk-container-id-2 label.sk-toggleable__label-arrow:before {\n",
       "  /* Arrow on the left of the label */\n",
       "  content: \"▸\";\n",
       "  float: left;\n",
       "  margin-right: 0.25em;\n",
       "  color: var(--sklearn-color-icon);\n",
       "}\n",
       "\n",
       "#sk-container-id-2 label.sk-toggleable__label-arrow:hover:before {\n",
       "  color: var(--sklearn-color-text);\n",
       "}\n",
       "\n",
       "/* Toggleable content - dropdown */\n",
       "\n",
       "#sk-container-id-2 div.sk-toggleable__content {\n",
       "  display: none;\n",
       "  text-align: left;\n",
       "  /* unfitted */\n",
       "  background-color: var(--sklearn-color-unfitted-level-0);\n",
       "}\n",
       "\n",
       "#sk-container-id-2 div.sk-toggleable__content.fitted {\n",
       "  /* fitted */\n",
       "  background-color: var(--sklearn-color-fitted-level-0);\n",
       "}\n",
       "\n",
       "#sk-container-id-2 div.sk-toggleable__content pre {\n",
       "  margin: 0.2em;\n",
       "  border-radius: 0.25em;\n",
       "  color: var(--sklearn-color-text);\n",
       "  /* unfitted */\n",
       "  background-color: var(--sklearn-color-unfitted-level-0);\n",
       "}\n",
       "\n",
       "#sk-container-id-2 div.sk-toggleable__content.fitted pre {\n",
       "  /* unfitted */\n",
       "  background-color: var(--sklearn-color-fitted-level-0);\n",
       "}\n",
       "\n",
       "#sk-container-id-2 input.sk-toggleable__control:checked~div.sk-toggleable__content {\n",
       "  /* Expand drop-down */\n",
       "  display: block;\n",
       "  width: 100%;\n",
       "  overflow: visible;\n",
       "}\n",
       "\n",
       "#sk-container-id-2 input.sk-toggleable__control:checked~label.sk-toggleable__label-arrow:before {\n",
       "  content: \"▾\";\n",
       "}\n",
       "\n",
       "/* Pipeline/ColumnTransformer-specific style */\n",
       "\n",
       "#sk-container-id-2 div.sk-label input.sk-toggleable__control:checked~label.sk-toggleable__label {\n",
       "  color: var(--sklearn-color-text);\n",
       "  background-color: var(--sklearn-color-unfitted-level-2);\n",
       "}\n",
       "\n",
       "#sk-container-id-2 div.sk-label.fitted input.sk-toggleable__control:checked~label.sk-toggleable__label {\n",
       "  background-color: var(--sklearn-color-fitted-level-2);\n",
       "}\n",
       "\n",
       "/* Estimator-specific style */\n",
       "\n",
       "/* Colorize estimator box */\n",
       "#sk-container-id-2 div.sk-estimator input.sk-toggleable__control:checked~label.sk-toggleable__label {\n",
       "  /* unfitted */\n",
       "  background-color: var(--sklearn-color-unfitted-level-2);\n",
       "}\n",
       "\n",
       "#sk-container-id-2 div.sk-estimator.fitted input.sk-toggleable__control:checked~label.sk-toggleable__label {\n",
       "  /* fitted */\n",
       "  background-color: var(--sklearn-color-fitted-level-2);\n",
       "}\n",
       "\n",
       "#sk-container-id-2 div.sk-label label.sk-toggleable__label,\n",
       "#sk-container-id-2 div.sk-label label {\n",
       "  /* The background is the default theme color */\n",
       "  color: var(--sklearn-color-text-on-default-background);\n",
       "}\n",
       "\n",
       "/* On hover, darken the color of the background */\n",
       "#sk-container-id-2 div.sk-label:hover label.sk-toggleable__label {\n",
       "  color: var(--sklearn-color-text);\n",
       "  background-color: var(--sklearn-color-unfitted-level-2);\n",
       "}\n",
       "\n",
       "/* Label box, darken color on hover, fitted */\n",
       "#sk-container-id-2 div.sk-label.fitted:hover label.sk-toggleable__label.fitted {\n",
       "  color: var(--sklearn-color-text);\n",
       "  background-color: var(--sklearn-color-fitted-level-2);\n",
       "}\n",
       "\n",
       "/* Estimator label */\n",
       "\n",
       "#sk-container-id-2 div.sk-label label {\n",
       "  font-family: monospace;\n",
       "  font-weight: bold;\n",
       "  display: inline-block;\n",
       "  line-height: 1.2em;\n",
       "}\n",
       "\n",
       "#sk-container-id-2 div.sk-label-container {\n",
       "  text-align: center;\n",
       "}\n",
       "\n",
       "/* Estimator-specific */\n",
       "#sk-container-id-2 div.sk-estimator {\n",
       "  font-family: monospace;\n",
       "  border: 1px dotted var(--sklearn-color-border-box);\n",
       "  border-radius: 0.25em;\n",
       "  box-sizing: border-box;\n",
       "  margin-bottom: 0.5em;\n",
       "  /* unfitted */\n",
       "  background-color: var(--sklearn-color-unfitted-level-0);\n",
       "}\n",
       "\n",
       "#sk-container-id-2 div.sk-estimator.fitted {\n",
       "  /* fitted */\n",
       "  background-color: var(--sklearn-color-fitted-level-0);\n",
       "}\n",
       "\n",
       "/* on hover */\n",
       "#sk-container-id-2 div.sk-estimator:hover {\n",
       "  /* unfitted */\n",
       "  background-color: var(--sklearn-color-unfitted-level-2);\n",
       "}\n",
       "\n",
       "#sk-container-id-2 div.sk-estimator.fitted:hover {\n",
       "  /* fitted */\n",
       "  background-color: var(--sklearn-color-fitted-level-2);\n",
       "}\n",
       "\n",
       "/* Specification for estimator info (e.g. \"i\" and \"?\") */\n",
       "\n",
       "/* Common style for \"i\" and \"?\" */\n",
       "\n",
       ".sk-estimator-doc-link,\n",
       "a:link.sk-estimator-doc-link,\n",
       "a:visited.sk-estimator-doc-link {\n",
       "  float: right;\n",
       "  font-size: smaller;\n",
       "  line-height: 1em;\n",
       "  font-family: monospace;\n",
       "  background-color: var(--sklearn-color-background);\n",
       "  border-radius: 1em;\n",
       "  height: 1em;\n",
       "  width: 1em;\n",
       "  text-decoration: none !important;\n",
       "  margin-left: 0.5em;\n",
       "  text-align: center;\n",
       "  /* unfitted */\n",
       "  border: var(--sklearn-color-unfitted-level-1) 1pt solid;\n",
       "  color: var(--sklearn-color-unfitted-level-1);\n",
       "}\n",
       "\n",
       ".sk-estimator-doc-link.fitted,\n",
       "a:link.sk-estimator-doc-link.fitted,\n",
       "a:visited.sk-estimator-doc-link.fitted {\n",
       "  /* fitted */\n",
       "  border: var(--sklearn-color-fitted-level-1) 1pt solid;\n",
       "  color: var(--sklearn-color-fitted-level-1);\n",
       "}\n",
       "\n",
       "/* On hover */\n",
       "div.sk-estimator:hover .sk-estimator-doc-link:hover,\n",
       ".sk-estimator-doc-link:hover,\n",
       "div.sk-label-container:hover .sk-estimator-doc-link:hover,\n",
       ".sk-estimator-doc-link:hover {\n",
       "  /* unfitted */\n",
       "  background-color: var(--sklearn-color-unfitted-level-3);\n",
       "  color: var(--sklearn-color-background);\n",
       "  text-decoration: none;\n",
       "}\n",
       "\n",
       "div.sk-estimator.fitted:hover .sk-estimator-doc-link.fitted:hover,\n",
       ".sk-estimator-doc-link.fitted:hover,\n",
       "div.sk-label-container:hover .sk-estimator-doc-link.fitted:hover,\n",
       ".sk-estimator-doc-link.fitted:hover {\n",
       "  /* fitted */\n",
       "  background-color: var(--sklearn-color-fitted-level-3);\n",
       "  color: var(--sklearn-color-background);\n",
       "  text-decoration: none;\n",
       "}\n",
       "\n",
       "/* Span, style for the box shown on hovering the info icon */\n",
       ".sk-estimator-doc-link span {\n",
       "  display: none;\n",
       "  z-index: 9999;\n",
       "  position: relative;\n",
       "  font-weight: normal;\n",
       "  right: .2ex;\n",
       "  padding: .5ex;\n",
       "  margin: .5ex;\n",
       "  width: min-content;\n",
       "  min-width: 20ex;\n",
       "  max-width: 50ex;\n",
       "  color: var(--sklearn-color-text);\n",
       "  box-shadow: 2pt 2pt 4pt #999;\n",
       "  /* unfitted */\n",
       "  background: var(--sklearn-color-unfitted-level-0);\n",
       "  border: .5pt solid var(--sklearn-color-unfitted-level-3);\n",
       "}\n",
       "\n",
       ".sk-estimator-doc-link.fitted span {\n",
       "  /* fitted */\n",
       "  background: var(--sklearn-color-fitted-level-0);\n",
       "  border: var(--sklearn-color-fitted-level-3);\n",
       "}\n",
       "\n",
       ".sk-estimator-doc-link:hover span {\n",
       "  display: block;\n",
       "}\n",
       "\n",
       "/* \"?\"-specific style due to the `<a>` HTML tag */\n",
       "\n",
       "#sk-container-id-2 a.estimator_doc_link {\n",
       "  float: right;\n",
       "  font-size: 1rem;\n",
       "  line-height: 1em;\n",
       "  font-family: monospace;\n",
       "  background-color: var(--sklearn-color-background);\n",
       "  border-radius: 1rem;\n",
       "  height: 1rem;\n",
       "  width: 1rem;\n",
       "  text-decoration: none;\n",
       "  /* unfitted */\n",
       "  color: var(--sklearn-color-unfitted-level-1);\n",
       "  border: var(--sklearn-color-unfitted-level-1) 1pt solid;\n",
       "}\n",
       "\n",
       "#sk-container-id-2 a.estimator_doc_link.fitted {\n",
       "  /* fitted */\n",
       "  border: var(--sklearn-color-fitted-level-1) 1pt solid;\n",
       "  color: var(--sklearn-color-fitted-level-1);\n",
       "}\n",
       "\n",
       "/* On hover */\n",
       "#sk-container-id-2 a.estimator_doc_link:hover {\n",
       "  /* unfitted */\n",
       "  background-color: var(--sklearn-color-unfitted-level-3);\n",
       "  color: var(--sklearn-color-background);\n",
       "  text-decoration: none;\n",
       "}\n",
       "\n",
       "#sk-container-id-2 a.estimator_doc_link.fitted:hover {\n",
       "  /* fitted */\n",
       "  background-color: var(--sklearn-color-fitted-level-3);\n",
       "}\n",
       "\n",
       ".estimator-table summary {\n",
       "    padding: .5rem;\n",
       "    font-family: monospace;\n",
       "    cursor: pointer;\n",
       "}\n",
       "\n",
       ".estimator-table details[open] {\n",
       "    padding-left: 0.1rem;\n",
       "    padding-right: 0.1rem;\n",
       "    padding-bottom: 0.3rem;\n",
       "}\n",
       "\n",
       ".estimator-table .parameters-table {\n",
       "    margin-left: auto !important;\n",
       "    margin-right: auto !important;\n",
       "}\n",
       "\n",
       ".estimator-table .parameters-table tr:nth-child(odd) {\n",
       "    background-color: #fff;\n",
       "}\n",
       "\n",
       ".estimator-table .parameters-table tr:nth-child(even) {\n",
       "    background-color: #f6f6f6;\n",
       "}\n",
       "\n",
       ".estimator-table .parameters-table tr:hover {\n",
       "    background-color: #e0e0e0;\n",
       "}\n",
       "\n",
       ".estimator-table table td {\n",
       "    border: 1px solid rgba(106, 105, 104, 0.232);\n",
       "}\n",
       "\n",
       ".user-set td {\n",
       "    color:rgb(255, 94, 0);\n",
       "    text-align: left;\n",
       "}\n",
       "\n",
       ".user-set td.value pre {\n",
       "    color:rgb(255, 94, 0) !important;\n",
       "    background-color: transparent !important;\n",
       "}\n",
       "\n",
       ".default td {\n",
       "    color: black;\n",
       "    text-align: left;\n",
       "}\n",
       "\n",
       ".user-set td i,\n",
       ".default td i {\n",
       "    color: black;\n",
       "}\n",
       "\n",
       ".copy-paste-icon {\n",
       "    background-image: url(data:image/svg+xml;base64,PHN2ZyB4bWxucz0iaHR0cDovL3d3dy53My5vcmcvMjAwMC9zdmciIHZpZXdCb3g9IjAgMCA0NDggNTEyIj48IS0tIUZvbnQgQXdlc29tZSBGcmVlIDYuNy4yIGJ5IEBmb250YXdlc29tZSAtIGh0dHBzOi8vZm9udGF3ZXNvbWUuY29tIExpY2Vuc2UgLSBodHRwczovL2ZvbnRhd2Vzb21lLmNvbS9saWNlbnNlL2ZyZWUgQ29weXJpZ2h0IDIwMjUgRm9udGljb25zLCBJbmMuLS0+PHBhdGggZD0iTTIwOCAwTDMzMi4xIDBjMTIuNyAwIDI0LjkgNS4xIDMzLjkgMTQuMWw2Ny45IDY3LjljOSA5IDE0LjEgMjEuMiAxNC4xIDMzLjlMNDQ4IDMzNmMwIDI2LjUtMjEuNSA0OC00OCA0OGwtMTkyIDBjLTI2LjUgMC00OC0yMS41LTQ4LTQ4bDAtMjg4YzAtMjYuNSAyMS41LTQ4IDQ4LTQ4ek00OCAxMjhsODAgMCAwIDY0LTY0IDAgMCAyNTYgMTkyIDAgMC0zMiA2NCAwIDAgNDhjMCAyNi41LTIxLjUgNDgtNDggNDhMNDggNTEyYy0yNi41IDAtNDgtMjEuNS00OC00OEwwIDE3NmMwLTI2LjUgMjEuNS00OCA0OC00OHoiLz48L3N2Zz4=);\n",
       "    background-repeat: no-repeat;\n",
       "    background-size: 14px 14px;\n",
       "    background-position: 0;\n",
       "    display: inline-block;\n",
       "    width: 14px;\n",
       "    height: 14px;\n",
       "    cursor: pointer;\n",
       "}\n",
       "</style><body><div id=\"sk-container-id-2\" class=\"sk-top-container\"><div class=\"sk-text-repr-fallback\"><pre>KNeighborsRegressor()</pre><b>In a Jupyter environment, please rerun this cell to show the HTML representation or trust the notebook. <br />On GitHub, the HTML representation is unable to render, please try loading this page with nbviewer.org.</b></div><div class=\"sk-container\" hidden><div class=\"sk-item\"><div class=\"sk-estimator fitted sk-toggleable\"><input class=\"sk-toggleable__control sk-hidden--visually\" id=\"sk-estimator-id-2\" type=\"checkbox\" checked><label for=\"sk-estimator-id-2\" class=\"sk-toggleable__label fitted sk-toggleable__label-arrow\"><div><div>KNeighborsRegressor</div></div><div><a class=\"sk-estimator-doc-link fitted\" rel=\"noreferrer\" target=\"_blank\" href=\"https://scikit-learn.org/1.7/modules/generated/sklearn.neighbors.KNeighborsRegressor.html\">?<span>Documentation for KNeighborsRegressor</span></a><span class=\"sk-estimator-doc-link fitted\">i<span>Fitted</span></span></div></label><div class=\"sk-toggleable__content fitted\" data-param-prefix=\"\">\n",
       "        <div class=\"estimator-table\">\n",
       "            <details>\n",
       "                <summary>Parameters</summary>\n",
       "                <table class=\"parameters-table\">\n",
       "                  <tbody>\n",
       "                    \n",
       "        <tr class=\"default\">\n",
       "            <td><i class=\"copy-paste-icon\"\n",
       "                 onclick=\"copyToClipboard('n_neighbors',\n",
       "                          this.parentElement.nextElementSibling)\"\n",
       "            ></i></td>\n",
       "            <td class=\"param\">n_neighbors&nbsp;</td>\n",
       "            <td class=\"value\">5</td>\n",
       "        </tr>\n",
       "    \n",
       "\n",
       "        <tr class=\"default\">\n",
       "            <td><i class=\"copy-paste-icon\"\n",
       "                 onclick=\"copyToClipboard('weights',\n",
       "                          this.parentElement.nextElementSibling)\"\n",
       "            ></i></td>\n",
       "            <td class=\"param\">weights&nbsp;</td>\n",
       "            <td class=\"value\">&#x27;uniform&#x27;</td>\n",
       "        </tr>\n",
       "    \n",
       "\n",
       "        <tr class=\"default\">\n",
       "            <td><i class=\"copy-paste-icon\"\n",
       "                 onclick=\"copyToClipboard('algorithm',\n",
       "                          this.parentElement.nextElementSibling)\"\n",
       "            ></i></td>\n",
       "            <td class=\"param\">algorithm&nbsp;</td>\n",
       "            <td class=\"value\">&#x27;auto&#x27;</td>\n",
       "        </tr>\n",
       "    \n",
       "\n",
       "        <tr class=\"default\">\n",
       "            <td><i class=\"copy-paste-icon\"\n",
       "                 onclick=\"copyToClipboard('leaf_size',\n",
       "                          this.parentElement.nextElementSibling)\"\n",
       "            ></i></td>\n",
       "            <td class=\"param\">leaf_size&nbsp;</td>\n",
       "            <td class=\"value\">30</td>\n",
       "        </tr>\n",
       "    \n",
       "\n",
       "        <tr class=\"default\">\n",
       "            <td><i class=\"copy-paste-icon\"\n",
       "                 onclick=\"copyToClipboard('p',\n",
       "                          this.parentElement.nextElementSibling)\"\n",
       "            ></i></td>\n",
       "            <td class=\"param\">p&nbsp;</td>\n",
       "            <td class=\"value\">2</td>\n",
       "        </tr>\n",
       "    \n",
       "\n",
       "        <tr class=\"default\">\n",
       "            <td><i class=\"copy-paste-icon\"\n",
       "                 onclick=\"copyToClipboard('metric',\n",
       "                          this.parentElement.nextElementSibling)\"\n",
       "            ></i></td>\n",
       "            <td class=\"param\">metric&nbsp;</td>\n",
       "            <td class=\"value\">&#x27;minkowski&#x27;</td>\n",
       "        </tr>\n",
       "    \n",
       "\n",
       "        <tr class=\"default\">\n",
       "            <td><i class=\"copy-paste-icon\"\n",
       "                 onclick=\"copyToClipboard('metric_params',\n",
       "                          this.parentElement.nextElementSibling)\"\n",
       "            ></i></td>\n",
       "            <td class=\"param\">metric_params&nbsp;</td>\n",
       "            <td class=\"value\">None</td>\n",
       "        </tr>\n",
       "    \n",
       "\n",
       "        <tr class=\"default\">\n",
       "            <td><i class=\"copy-paste-icon\"\n",
       "                 onclick=\"copyToClipboard('n_jobs',\n",
       "                          this.parentElement.nextElementSibling)\"\n",
       "            ></i></td>\n",
       "            <td class=\"param\">n_jobs&nbsp;</td>\n",
       "            <td class=\"value\">None</td>\n",
       "        </tr>\n",
       "    \n",
       "                  </tbody>\n",
       "                </table>\n",
       "            </details>\n",
       "        </div>\n",
       "    </div></div></div></div></div><script>function copyToClipboard(text, element) {\n",
       "    // Get the parameter prefix from the closest toggleable content\n",
       "    const toggleableContent = element.closest('.sk-toggleable__content');\n",
       "    const paramPrefix = toggleableContent ? toggleableContent.dataset.paramPrefix : '';\n",
       "    const fullParamName = paramPrefix ? `${paramPrefix}${text}` : text;\n",
       "\n",
       "    const originalStyle = element.style;\n",
       "    const computedStyle = window.getComputedStyle(element);\n",
       "    const originalWidth = computedStyle.width;\n",
       "    const originalHTML = element.innerHTML.replace('Copied!', '');\n",
       "\n",
       "    navigator.clipboard.writeText(fullParamName)\n",
       "        .then(() => {\n",
       "            element.style.width = originalWidth;\n",
       "            element.style.color = 'green';\n",
       "            element.innerHTML = \"Copied!\";\n",
       "\n",
       "            setTimeout(() => {\n",
       "                element.innerHTML = originalHTML;\n",
       "                element.style = originalStyle;\n",
       "            }, 2000);\n",
       "        })\n",
       "        .catch(err => {\n",
       "            console.error('Failed to copy:', err);\n",
       "            element.style.color = 'red';\n",
       "            element.innerHTML = \"Failed!\";\n",
       "            setTimeout(() => {\n",
       "                element.innerHTML = originalHTML;\n",
       "                element.style = originalStyle;\n",
       "            }, 2000);\n",
       "        });\n",
       "    return false;\n",
       "}\n",
       "\n",
       "document.querySelectorAll('.fa-regular.fa-copy').forEach(function(element) {\n",
       "    const toggleableContent = element.closest('.sk-toggleable__content');\n",
       "    const paramPrefix = toggleableContent ? toggleableContent.dataset.paramPrefix : '';\n",
       "    const paramName = element.parentElement.nextElementSibling.textContent.trim();\n",
       "    const fullParamName = paramPrefix ? `${paramPrefix}${paramName}` : paramName;\n",
       "\n",
       "    element.setAttribute('title', fullParamName);\n",
       "});\n",
       "</script></body>"
      ],
      "text/plain": [
       "KNeighborsRegressor()"
      ]
     },
     "execution_count": 53,
     "metadata": {},
     "output_type": "execute_result"
    }
   ],
   "source": [
    "knn_model = KNeighborsRegressor(n_neighbors=5)\n",
    "knn_model.fit(X_train_scaled, y_train)"
   ]
  },
  {
   "cell_type": "markdown",
   "id": "99c24a96",
   "metadata": {},
   "source": [
    "Predict missing values & fill missing values"
   ]
  },
  {
   "cell_type": "code",
   "execution_count": 54,
   "id": "04c384dd",
   "metadata": {},
   "outputs": [],
   "source": [
    "predicted_values_knn = knn_model.predict(X_pred_scaled)\n",
    "\n",
    "# Replace negative predictions with 0\n",
    "predicted_values_knn = np.where(predicted_values_knn < 0, 0, predicted_values_knn)\n",
    "df_C.loc[missing_mask, target_col] = predicted_values_knn"
   ]
  },
  {
   "cell_type": "code",
   "execution_count": 55,
   "id": "68af415d",
   "metadata": {},
   "outputs": [
    {
     "name": "stdout",
     "output_type": "stream",
     "text": [
      "KNN Regression score on training data: 0.9171\n",
      "Range of predicted bill_amt1: 0.0 - 457867.2\n",
      "\n",
      "Missing values in Dataset C after KNN imputation: 0\n"
     ]
    }
   ],
   "source": [
    "print(f\"KNN Regression score on training data: {knn_model.score(X_train_scaled, y_train):.4f}\")\n",
    "print(f\"Range of predicted bill_amt1: {predicted_values_knn.min():.1f} - {predicted_values_knn.max():.1f}\")\n",
    "\n",
    "# Also impute age with median for consistency and also, ensure that the logistic regression model is trained without any errors.\n",
    "df_C['age'] = df_C['age'].fillna(df_C['age'].median())\n",
    "\n",
    "print(f\"\\nMissing values in Dataset C after KNN imputation: {df_C.isnull().sum().sum()}\")"
   ]
  },
  {
   "cell_type": "markdown",
   "id": "3fee2c07",
   "metadata": {},
   "source": [
    "##  Part B: Model Training and Performance Assessment"
   ]
  },
  {
   "cell_type": "markdown",
   "id": "057745fc",
   "metadata": {},
   "source": [
    "### 1. Data Split"
   ]
  },
  {
   "cell_type": "markdown",
   "id": "6a70c843",
   "metadata": {},
   "source": [
    "Create Dataset D - Listwise Deletion"
   ]
  },
  {
   "cell_type": "code",
   "execution_count": 56,
   "id": "dfbc66a3",
   "metadata": {},
   "outputs": [],
   "source": [
    "df_D = df.dropna()\n"
   ]
  },
  {
   "cell_type": "code",
   "execution_count": 57,
   "id": "00f0ab19",
   "metadata": {},
   "outputs": [],
   "source": [
    "datasets = {\n",
    "    'A (Median Imputation)': df_A,\n",
    "    'B (Linear Regression Imputation)': df_B, \n",
    "    'C (KNN Regression Imputation)': df_C,\n",
    "    'D (Listwise Deletion)': df_D\n",
    "}"
   ]
  },
  {
   "cell_type": "markdown",
   "id": "96a1f130",
   "metadata": {},
   "source": [
    "Prepare for model training"
   ]
  },
  {
   "cell_type": "code",
   "execution_count": 58,
   "id": "3f78367b",
   "metadata": {},
   "outputs": [
    {
     "name": "stdout",
     "output_type": "stream",
     "text": [
      "A (Median Imputation):\n",
      "  Original shape: (30000, 24)\n",
      "  Training set: (24000, 23)\n",
      "  Test set: (6000, 23)\n",
      "  Default rate: 0.221\n",
      "\n",
      "B (Linear Regression Imputation):\n",
      "  Original shape: (30000, 24)\n",
      "  Training set: (24000, 23)\n",
      "  Test set: (6000, 23)\n",
      "  Default rate: 0.221\n",
      "\n",
      "C (KNN Regression Imputation):\n",
      "  Original shape: (30000, 24)\n",
      "  Training set: (24000, 23)\n",
      "  Test set: (6000, 23)\n",
      "  Default rate: 0.221\n",
      "\n",
      "D (Listwise Deletion):\n",
      "  Original shape: (27077, 24)\n",
      "  Training set: (21661, 23)\n",
      "  Test set: (5416, 23)\n",
      "  Default rate: 0.221\n",
      "\n"
     ]
    }
   ],
   "source": [
    "X_sets = {}\n",
    "y_sets = {}\n",
    "X_train_sets = {}\n",
    "X_test_sets = {}\n",
    "y_train_sets = {}\n",
    "y_test_sets = {}\n",
    "\n",
    "for name, dataset in datasets.items():\n",
    "    # Separate features and target\n",
    "    X = dataset.drop('default.payment.next.month', axis=1)\n",
    "    y = dataset['default.payment.next.month']\n",
    "    \n",
    "    X_sets[name] = X\n",
    "    y_sets[name] = y\n",
    "    \n",
    "    # Split the data (80% train, 20% test)\n",
    "    X_train, X_test, y_train, y_test = train_test_split(\n",
    "        X, y, test_size=0.2, random_state=42, stratify=y\n",
    "    )\n",
    "    \n",
    "    X_train_sets[name] = X_train\n",
    "    X_test_sets[name] = X_test\n",
    "    y_train_sets[name] = y_train\n",
    "    y_test_sets[name] = y_test\n",
    "    \n",
    "    print(f\"{name}:\")\n",
    "    print(f\"  Original shape: {dataset.shape}\")\n",
    "    print(f\"  Training set: {X_train.shape}\")\n",
    "    print(f\"  Test set: {X_test.shape}\")\n",
    "    print(f\"  Default rate: {y.mean():.3f}\")\n",
    "    print()"
   ]
  },
  {
   "cell_type": "markdown",
   "id": "2a7020df",
   "metadata": {},
   "source": [
    "### 2. Classifier Setup"
   ]
  },
  {
   "cell_type": "code",
   "execution_count": 59,
   "id": "9fdcbd86",
   "metadata": {},
   "outputs": [
    {
     "name": "stdout",
     "output_type": "stream",
     "text": [
      "A (Median Imputation): Standardization completed\n",
      "B (Linear Regression Imputation): Standardization completed\n",
      "C (KNN Regression Imputation): Standardization completed\n",
      "D (Listwise Deletion): Standardization completed\n",
      "\n",
      "All datasets have been standardized successfully!\n"
     ]
    }
   ],
   "source": [
    "scaler_sets = {}\n",
    "X_train_scaled_sets = {}\n",
    "X_test_scaled_sets = {}\n",
    "\n",
    "for name in datasets.keys():\n",
    "    # Initialize scaler\n",
    "    scaler = StandardScaler()\n",
    "    \n",
    "    # Fit on training data and transform both train and test\n",
    "    X_train_scaled = scaler.fit_transform(X_train_sets[name])\n",
    "    X_test_scaled = scaler.transform(X_test_sets[name])\n",
    "    \n",
    "    scaler_sets[name] = scaler\n",
    "    X_train_scaled_sets[name] = X_train_scaled\n",
    "    X_test_scaled_sets[name] = X_test_scaled\n",
    "    \n",
    "    print(f\"{name}: Standardization completed\")\n",
    "\n",
    "print(\"\\nAll datasets have been standardized successfully!\")"
   ]
  },
  {
   "cell_type": "markdown",
   "id": "3b61bd20",
   "metadata": {},
   "source": [
    "### 3. Model Evaluation"
   ]
  },
  {
   "cell_type": "code",
   "execution_count": 60,
   "id": "4634eb69",
   "metadata": {},
   "outputs": [
    {
     "name": "stdout",
     "output_type": "stream",
     "text": [
      "================================================================================\n",
      "Evaluating: A (Median Imputation)\n",
      "================================================================================\n",
      "Classification Report:\n",
      "\n",
      "              precision    recall  f1-score   support\n",
      "\n",
      "           0      0.818     0.969     0.887      4673\n",
      "           1      0.685     0.240     0.356      1327\n",
      "\n",
      "    accuracy                          0.807      6000\n",
      "   macro avg      0.751     0.604     0.621      6000\n",
      "weighted avg      0.788     0.807     0.769      6000\n",
      "\n",
      "Accuracy: 0.8075, Precision: 0.6845, Recall: 0.2404, F1-Score: 0.3558\n",
      "\n",
      "\n",
      "================================================================================\n",
      "Evaluating: B (Linear Regression Imputation)\n",
      "================================================================================\n",
      "Classification Report:\n",
      "\n",
      "              precision    recall  f1-score   support\n",
      "\n",
      "           0      0.818     0.969     0.887      4673\n",
      "           1      0.688     0.241     0.357      1327\n",
      "\n",
      "    accuracy                          0.808      6000\n",
      "   macro avg      0.753     0.605     0.622      6000\n",
      "weighted avg      0.789     0.808     0.770      6000\n",
      "\n",
      "Accuracy: 0.8080, Precision: 0.6882, Recall: 0.2411, F1-Score: 0.3571\n",
      "\n",
      "\n",
      "================================================================================\n",
      "Evaluating: C (KNN Regression Imputation)\n",
      "================================================================================\n",
      "Classification Report:\n",
      "\n",
      "              precision    recall  f1-score   support\n",
      "\n",
      "           0      0.818     0.969     0.887      4673\n",
      "           1      0.685     0.241     0.357      1327\n",
      "\n",
      "    accuracy                          0.808      6000\n",
      "   macro avg      0.752     0.605     0.622      6000\n",
      "weighted avg      0.789     0.808     0.770      6000\n",
      "\n",
      "Accuracy: 0.8077, Precision: 0.6852, Recall: 0.2411, F1-Score: 0.3567\n",
      "\n",
      "\n",
      "================================================================================\n",
      "Evaluating: D (Listwise Deletion)\n",
      "================================================================================\n",
      "Classification Report:\n",
      "\n",
      "              precision    recall  f1-score   support\n",
      "\n",
      "           0      0.815     0.970     0.885      4221\n",
      "           1      0.673     0.221     0.333      1195\n",
      "\n",
      "    accuracy                          0.804      5416\n",
      "   macro avg      0.744     0.595     0.609      5416\n",
      "weighted avg      0.784     0.804     0.763      5416\n",
      "\n",
      "Accuracy: 0.8045, Precision: 0.6735, Recall: 0.2209, F1-Score: 0.3327\n",
      "\n",
      "\n"
     ]
    }
   ],
   "source": [
    "models = {}\n",
    "results = {}\n",
    "\n",
    "for name in datasets.keys():\n",
    "    print(\"=\" * 80)\n",
    "    print(f\"Evaluating: {name}\")\n",
    "    print(\"=\" * 80)\n",
    "    \n",
    "    # Initialize and train Logistic Regression model\n",
    "    lr_classifier = LogisticRegression(random_state=42, max_iter=1000)\n",
    "    lr_classifier.fit(X_train_scaled_sets[name], y_train_sets[name])\n",
    "    \n",
    "    # Make predictions\n",
    "    y_pred = lr_classifier.predict(X_test_scaled_sets[name])\n",
    "    \n",
    "    # Store model and predictions\n",
    "    models[name] = lr_classifier\n",
    "    results[name] = {\n",
    "        'y_true': y_test_sets[name],\n",
    "        'y_pred': y_pred\n",
    "    }\n",
    "    \n",
    "    # Calculate metrics\n",
    "    accuracy = accuracy_score(y_test_sets[name], y_pred)\n",
    "    precision = precision_score(y_test_sets[name], y_pred)\n",
    "    recall = recall_score(y_test_sets[name], y_pred)\n",
    "    f1 = f1_score(y_test_sets[name], y_pred)\n",
    "    \n",
    "    results[name].update({\n",
    "        'accuracy': accuracy,\n",
    "        'precision': precision,\n",
    "        'recall': recall,\n",
    "        'f1': f1\n",
    "    })\n",
    "    \n",
    "    # Print detailed classification report\n",
    "    print(\"Classification Report:\\n\")\n",
    "    print(classification_report(y_test_sets[name], y_pred, digits=3))\n",
    "    print(f\"Accuracy: {accuracy:.4f}, Precision: {precision:.4f}, Recall: {recall:.4f}, F1-Score: {f1:.4f}\")\n",
    "    print(\"\\n\")  # Extra spacing for readability\n",
    "    \n",
    "    # ✅ Force flush so Jupyter prints immediately\n",
    "    sys.stdout.flush()\n"
   ]
  },
  {
   "cell_type": "markdown",
   "id": "bf9eda3c",
   "metadata": {},
   "source": [
    "## Part C: Comparative Analysis"
   ]
  },
  {
   "cell_type": "markdown",
   "id": "cd122b1d",
   "metadata": {},
   "source": [
    "### 1. Results Comparison"
   ]
  },
  {
   "cell_type": "markdown",
   "id": "10300664",
   "metadata": {},
   "source": [
    "Create comprehensive summary table"
   ]
  },
  {
   "cell_type": "code",
   "execution_count": 61,
   "id": "e6c1a567",
   "metadata": {},
   "outputs": [
    {
     "name": "stdout",
     "output_type": "stream",
     "text": [
      "Performance Metrics Summary:\n",
      "                         Dataset  Accuracy  Precision  Recall  F1-Score  Sample_Size\n",
      "           A (Median Imputation)    0.8075     0.6845  0.2404    0.3558        30000\n",
      "B (Linear Regression Imputation)    0.8080     0.6882  0.2411    0.3571        30000\n",
      "   C (KNN Regression Imputation)    0.8077     0.6852  0.2411    0.3567        30000\n",
      "           D (Listwise Deletion)    0.8045     0.6735  0.2209    0.3327        27077\n"
     ]
    }
   ],
   "source": [
    "summary_data = []\n",
    "for name in datasets.keys():\n",
    "    summary_data.append({\n",
    "        'Dataset': name,\n",
    "        'Accuracy': results[name]['accuracy'],\n",
    "        'Precision': results[name]['precision'],\n",
    "        'Recall': results[name]['recall'],\n",
    "        'F1-Score': results[name]['f1'],\n",
    "        'Sample_Size': len(X_sets[name])\n",
    "    })\n",
    "\n",
    "summary_df = pd.DataFrame(summary_data)\n",
    "summary_df = summary_df.round(4)\n",
    "\n",
    "print(\"Performance Metrics Summary:\")\n",
    "print(summary_df.to_string(index=False))"
   ]
  },
  {
   "cell_type": "markdown",
   "id": "08395590",
   "metadata": {},
   "source": [
    "Visual comparison of all metrics"
   ]
  },
  {
   "cell_type": "code",
   "execution_count": 62,
   "id": "6f2a256d",
   "metadata": {},
   "outputs": [
    {
     "data": {
      "image/png": "[encoded data removed]",
      "text/plain": [
       "<Figure size 1500x1000 with 4 Axes>"
      ]
     },
     "metadata": {},
     "output_type": "display_data"
    }
   ],
   "source": [
    "metrics = ['Accuracy', 'Precision', 'Recall', 'F1-Score']\n",
    "\n",
    "# Map display names to dictionary keys\n",
    "key_map = {\n",
    "    'Accuracy': 'accuracy',\n",
    "    'Precision': 'precision',\n",
    "    'Recall': 'recall',\n",
    "    'F1-Score': 'f1'\n",
    "}\n",
    "\n",
    "plt.figure(figsize=(15, 10))\n",
    "\n",
    "for i, metric in enumerate(metrics, 1):\n",
    "    plt.subplot(2, 2, i)\n",
    "\n",
    "    values = [results[name][key_map[metric]] for name in datasets.keys()]\n",
    "    colors = ['blue', 'orange', 'green', 'red']\n",
    "\n",
    "    bars = plt.bar(datasets.keys(), values, color=colors, alpha=0.7)\n",
    "    plt.title(f'{metric} Comparison Across Imputation Methods', fontsize=14)\n",
    "    plt.ylabel(metric, fontsize=12)\n",
    "    plt.xticks(rotation=45, fontsize=10)\n",
    "    plt.grid(axis='y', alpha=0.3)\n",
    "\n",
    "    # Adjust the upper limit of y-axis (adds space for text)\n",
    "    plt.ylim(0, max(values) * 1.15)\n",
    "\n",
    "    # Add value labels above bars with a bit more vertical padding\n",
    "    for bar, value in zip(bars, values):\n",
    "        plt.text(\n",
    "            bar.get_x() + bar.get_width() / 2,\n",
    "            bar.get_height() + (max(values) * 0.02),  # vertical offset\n",
    "            f'{value:.3f}',\n",
    "            ha='center', va='bottom', fontweight='bold', fontsize=10\n",
    "        )\n",
    "\n",
    "plt.tight_layout(pad=3.0) \n",
    "plt.show()\n"
   ]
  },
  {
   "cell_type": "markdown",
   "id": "af74202a",
   "metadata": {},
   "source": [
    "### 2. Efficacy Discussion"
   ]
  },
  {
   "cell_type": "markdown",
   "id": "a2783ce0",
   "metadata": {},
   "source": [
    "#### Trade-off between Listwise Deletion and Imputation"
   ]
  },
  {
   "cell_type": "markdown",
   "id": "afd62295",
   "metadata": {},
   "source": [
    "**Listwise Deletion (Model D) vs. Imputation (Models A, B, C):**"
   ]
  },
  {
   "cell_type": "markdown",
   "id": "59ba376a",
   "metadata": {},
   "source": [
    "Based on the performance metrics, we observe a clear trade-off between data preservation and potential imputation bias:\n",
    "\n",
    "- **Data Loss Impact:** Listwise deletion resulted in the loss of 2,923 samples (9.7% of the original data), reducing the training set from 30,000 to 27,077 samples. This substantial data loss directly impacts model performance by reducing statistical power and potentially introducing selection bias.\n",
    "\n",
    "- **Performance Comparison:** Despite the theoretical advantage of listwise deletion preserving \"natural\" data relationships, all imputation methods (A, B, C) outperformed listwise deletion (D) in F1-score:\n",
    "\n",
    "  - Model A (Median): F1 = 0.3558\n",
    "\n",
    "  - Model B (Linear): F1 = 0.3571\n",
    "\n",
    "  - Model C (KNN): F1 = 0.3567\n",
    "\n",
    "  - Model D (Deletion): F1 = 0.3327\n",
    "\n",
    "- **Why Listwise Deletion Underperforms:** Even if imputation introduces some noise, the benefits of preserving sample size and maintaining the overall data distribution often outweigh the costs. The 9.7% data loss in listwise deletion represents valuable information that could contain important patterns for default prediction."
   ]
  },
  {
   "cell_type": "markdown",
   "id": "ab5ad10f",
   "metadata": {},
   "source": [
    "#### Linear vs. Non-Linear Regression Imputation Performance"
   ]
  },
  {
   "cell_type": "markdown",
   "id": "cea1731f",
   "metadata": {},
   "source": [
    "**Performance Comparison:**\n",
    "\n",
    "- Linear Regression Imputation (B): F1 = 0.3571\n",
    "\n",
    "- KNN Regression Imputation (C): F1 = 0.3567\n",
    "\n",
    "**Analysis:**\n",
    "The linear regression imputation slightly outperformed the non-linear KNN approach, suggesting that:\n",
    "\n",
    "1. **Linear Relationships Dominate:** The relationships between the imputed feature (AGE) and the predictors are predominantly linear in nature. Financial and demographic variables often exhibit linear correlations that linear regression can effectively capture.\n",
    "\n",
    "2. **Generalization Advantage:** Linear regression provides better generalization with limited data and is less prone to overfitting compared to KNN, which can be sensitive to the choice of neighbors and local patterns.\n",
    "\n",
    "3. **Computational Efficiency:** The minimal performance difference (0.0004) doesn't justify the additional computational complexity of KNN regression, especially for large-scale credit assessment systems.\n",
    "\n",
    "4. **Feature Relationships:** The assumption that AGE has primarily linear relationships with credit features (limit balance, payment amounts, bill amounts) appears valid in this dataset, making linear regression the more appropriate choice."
   ]
  },
  {
   "cell_type": "markdown",
   "id": "29ac8833",
   "metadata": {},
   "source": [
    "#### Recommended Strategy and Justification"
   ]
  },
  {
   "cell_type": "markdown",
   "id": "09deb654",
   "metadata": {},
   "source": [
    "**Recommended Strategy:** Linear Regression Imputation (Model B)"
   ]
  },
  {
   "cell_type": "markdown",
   "id": "04aa1585",
   "metadata": {},
   "source": [
    "**Justification Based on Performance Metrics:**\n",
    "\n",
    "1. **Superior F1-Score:** Achieved the highest F1-score (0.3571), balancing precision and recall effectively\n",
    "\n",
    "2. **Consistent Performance:** Maintained strong accuracy (0.8080) and precision (0.6882) while providing reasonable recall (0.2411)\n",
    "\n",
    "3. **Statistical Significance:** While differences are small, the consistent edge across multiple metrics suggests genuine superiority"
   ]
  },
  {
   "cell_type": "markdown",
   "id": "ec0c8ffc",
   "metadata": {},
   "source": [
    "**Conceptual and Practical Justification:** \n",
    "\n",
    "1. **Data Preservation:** Unlike listwise deletion, it preserves all 30,000 samples, maintaining statistical power and avoiding selection bias\n",
    "\n",
    "2. **Relationship Utilization:** Leverages actual relationships between variables rather than making simplistic assumptions like median imputation\n",
    "\n",
    "3. **Computational Practicality:** More efficient than KNN for production deployment while providing comparable or slightly better performance\n",
    "\n",
    "4. **Interpretability:** Linear relationships are easier to explain to business stakeholders compared to complex non-linear methods\n",
    "\n",
    "5. **Robustness:** Less sensitive to parameter tuning and local data patterns than KNN regression"
   ]
  },
  {
   "cell_type": "markdown",
   "id": "e491c3f2",
   "metadata": {},
   "source": [
    "**Impact Consideration:**\n",
    "The 0.0244 F1-score improvement over listwise deletion, while seemingly small, translates to meaningful business value in credit risk assessment through better identification of true defaults and reduced false positives, ultimately saving significant financial losses."
   ]
  },
  {
   "cell_type": "markdown",
   "id": "f7441f43",
   "metadata": {},
   "source": [
    "**Conclusion:** Linear regression imputation provides the optimal balance of statistical performance, computational efficiency, and practical implementability for this credit risk assessment scenario."
   ]
  }
 ],
 "metadata": {
  "kernelspec": {
   "display_name": "Python 3",
   "language": "python",
   "name": "python3"
  },
  "language_info": {
   "codemirror_mode": {
    "name": "ipython",
    "version": 3
   },
   "file_extension": ".py",
   "mimetype": "text/x-python",
   "name": "python",
   "nbconvert_exporter": "python",
   "pygments_lexer": "ipython3",
   "version": "3.11.9"
  }
 },
 "nbformat": 4,
 "nbformat_minor": 5
}
